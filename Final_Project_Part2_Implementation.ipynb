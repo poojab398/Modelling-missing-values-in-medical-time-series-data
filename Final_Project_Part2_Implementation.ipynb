{
  "nbformat": 4,
  "nbformat_minor": 0,
  "metadata": {
    "colab": {
      "name": "Project_01Jun2021.ipynb",
      "provenance": [],
      "collapsed_sections": [],
      "toc_visible": true
    },
    "kernelspec": {
      "name": "python3",
      "display_name": "Python 3"
    },
    "language_info": {
      "name": "python"
    },
    "accelerator": "GPU"
  },
  "cells": [
    {
      "cell_type": "markdown",
      "metadata": {
        "id": "E368bjpWhslk"
      },
      "source": [
        "-------------------------------------------\n",
        "<div>\n",
        "<img src=\"https://www.bournemouth.ac.uk/sites/all/themes/bournemouth/assets/images/logo-horizontal.svg\" width=\"400\"/>\n",
        "</div>\n",
        "\n",
        "| Faculty of Science and Technology           |\n",
        "| :-----------------------------------------: | \n",
        "| MSc. Data Science and Artificial Intelligence\n",
        "| Master's Dissertation\n",
        "|       June 2021\n",
        "\n",
        "-----------------------------------------------\n",
        "\n",
        "# <div style=\"text-align: center\">Modelling of Missing Values in Medical Time Series Data</div>\n",
        "### <div style=\"text-align: center\">Pooja Bhande</div>\n"
      ]
    },
    {
      "cell_type": "code",
      "metadata": {
        "id": "JtE-BhgkOWj-"
      },
      "source": [
        "# Importing all the required libraries\n",
        "import numpy as np\n",
        "import pandas as pd\n",
        "import matplotlib.pyplot as plt\n",
        "import psycopg2\n",
        "from datetime import datetime\n",
        "from datetime import timedelta\n",
        "import seaborn as sns\n",
        "%matplotlib inline\n",
        "import missingno as msno\n",
        "import keras\n",
        "import tensorflow as tf\n",
        "from tensorflow.keras.models import Sequential\n",
        "from tensorflow.keras.layers import Dense, LSTM, Dropout, Activation, Flatten\n",
        "from keras.preprocessing.sequence import TimeseriesGenerator\n",
        "from sklearn.preprocessing import MinMaxScaler, StandardScaler\n",
        "from sklearn.model_selection import train_test_split\n",
        "from sklearn.metrics import roc_curve, confusion_matrix, auc\n",
        "from sklearn.metrics import roc_auc_score\n",
        "from imblearn import under_sampling, over_sampling\n",
        "from imblearn.under_sampling import NearMiss\n",
        "from sklearn.utils import resample\n",
        "from keras.utils import np_utils\n",
        "from google.cloud import storage\n",
        "from google.colab import drive\n",
        "from sklearn.metrics import accuracy_score, f1_score, precision_score, recall_score\n",
        "from sklearn.metrics import classification_report, confusion_matrix\n",
        "from sklearn.linear_model import LogisticRegression\n",
        "from sklearn import metrics\n",
        "from sklearn.metrics import confusion_matrix\n",
        "from sklearn.tree import DecisionTreeClassifier\n",
        "from sklearn.ensemble import RandomForestClassifier\n",
        "import itertools  \n",
        "from sklearn.model_selection import GroupShuffleSplit\n",
        "import warnings\n",
        "warnings.filterwarnings(\"ignore\")\n"
      ],
      "execution_count": null,
      "outputs": []
    },
    {
      "cell_type": "code",
      "metadata": {
        "id": "zSmSA1-gOftx",
        "colab": {
          "base_uri": "https://localhost:8080/"
        },
        "outputId": "e37c470f-a0ab-4b26-ce2b-25e8edb4e78e"
      },
      "source": [
        "#Connect to Google Drive  \n",
        "from google.colab import drive\n",
        "drive.mount('/content/drive')"
      ],
      "execution_count": null,
      "outputs": [
        {
          "output_type": "stream",
          "text": [
            "Drive already mounted at /content/drive; to attempt to forcibly remount, call drive.mount(\"/content/drive\", force_remount=True).\n"
          ],
          "name": "stdout"
        }
      ]
    },
    {
      "cell_type": "code",
      "metadata": {
        "id": "PyPUlJDPOkcx"
      },
      "source": [
        "#Uploading the processed dataset\n",
        "df_final = pd.read_csv('/content/drive/MyDrive/df_final.csv',index_col=0)"
      ],
      "execution_count": null,
      "outputs": []
    },
    {
      "cell_type": "code",
      "metadata": {
        "colab": {
          "base_uri": "https://localhost:8080/",
          "height": 419
        },
        "id": "hsvf3gGIQpoD",
        "outputId": "e6b059e3-e623-4b29-cd16-0edf845e3ffc"
      },
      "source": [
        "#A quick look at the dataset created\n",
        "df_final"
      ],
      "execution_count": null,
      "outputs": [
        {
          "output_type": "execute_result",
          "data": {
            "text/html": [
              "<div>\n",
              "<style scoped>\n",
              "    .dataframe tbody tr th:only-of-type {\n",
              "        vertical-align: middle;\n",
              "    }\n",
              "\n",
              "    .dataframe tbody tr th {\n",
              "        vertical-align: top;\n",
              "    }\n",
              "\n",
              "    .dataframe thead th {\n",
              "        text-align: right;\n",
              "    }\n",
              "</style>\n",
              "<table border=\"1\" class=\"dataframe\">\n",
              "  <thead>\n",
              "    <tr style=\"text-align: right;\">\n",
              "      <th></th>\n",
              "      <th>icustay_id</th>\n",
              "      <th>charttime</th>\n",
              "      <th>subject_id</th>\n",
              "      <th>HeartRate</th>\n",
              "      <th>SysBP</th>\n",
              "      <th>DiasBP</th>\n",
              "      <th>MeanBP</th>\n",
              "      <th>RespRate</th>\n",
              "      <th>TempC</th>\n",
              "      <th>SpO2</th>\n",
              "      <th>Glucose</th>\n",
              "      <th>first_admit_age</th>\n",
              "      <th>gender</th>\n",
              "      <th>expire_flag</th>\n",
              "      <th>time_step</th>\n",
              "    </tr>\n",
              "  </thead>\n",
              "  <tbody>\n",
              "    <tr>\n",
              "      <th>1055849</th>\n",
              "      <td>222148</td>\n",
              "      <td>2100-06-16 16:00:00</td>\n",
              "      <td>12001.0</td>\n",
              "      <td>93.0</td>\n",
              "      <td>154.0</td>\n",
              "      <td>80.5</td>\n",
              "      <td>109.500000</td>\n",
              "      <td>13.0</td>\n",
              "      <td>NaN</td>\n",
              "      <td>100.0</td>\n",
              "      <td>NaN</td>\n",
              "      <td>71.63</td>\n",
              "      <td>0.0</td>\n",
              "      <td>0.0</td>\n",
              "      <td>0</td>\n",
              "    </tr>\n",
              "    <tr>\n",
              "      <th>1055850</th>\n",
              "      <td>222148</td>\n",
              "      <td>2100-06-16 17:00:00</td>\n",
              "      <td>12001.0</td>\n",
              "      <td>74.0</td>\n",
              "      <td>128.5</td>\n",
              "      <td>57.0</td>\n",
              "      <td>83.333351</td>\n",
              "      <td>11.0</td>\n",
              "      <td>NaN</td>\n",
              "      <td>100.0</td>\n",
              "      <td>NaN</td>\n",
              "      <td>71.63</td>\n",
              "      <td>0.0</td>\n",
              "      <td>0.0</td>\n",
              "      <td>1</td>\n",
              "    </tr>\n",
              "    <tr>\n",
              "      <th>1055851</th>\n",
              "      <td>222148</td>\n",
              "      <td>2100-06-16 18:00:00</td>\n",
              "      <td>12001.0</td>\n",
              "      <td>91.0</td>\n",
              "      <td>169.0</td>\n",
              "      <td>89.0</td>\n",
              "      <td>119.833500</td>\n",
              "      <td>14.0</td>\n",
              "      <td>NaN</td>\n",
              "      <td>98.0</td>\n",
              "      <td>NaN</td>\n",
              "      <td>71.63</td>\n",
              "      <td>0.0</td>\n",
              "      <td>0.0</td>\n",
              "      <td>2</td>\n",
              "    </tr>\n",
              "    <tr>\n",
              "      <th>1055852</th>\n",
              "      <td>222148</td>\n",
              "      <td>2100-06-16 19:00:00</td>\n",
              "      <td>12001.0</td>\n",
              "      <td>93.0</td>\n",
              "      <td>167.5</td>\n",
              "      <td>91.0</td>\n",
              "      <td>120.500000</td>\n",
              "      <td>14.0</td>\n",
              "      <td>37.111113</td>\n",
              "      <td>98.0</td>\n",
              "      <td>NaN</td>\n",
              "      <td>71.63</td>\n",
              "      <td>0.0</td>\n",
              "      <td>0.0</td>\n",
              "      <td>3</td>\n",
              "    </tr>\n",
              "    <tr>\n",
              "      <th>1055853</th>\n",
              "      <td>222148</td>\n",
              "      <td>2100-06-16 20:00:00</td>\n",
              "      <td>12001.0</td>\n",
              "      <td>88.0</td>\n",
              "      <td>168.5</td>\n",
              "      <td>77.0</td>\n",
              "      <td>110.666500</td>\n",
              "      <td>15.0</td>\n",
              "      <td>NaN</td>\n",
              "      <td>98.0</td>\n",
              "      <td>NaN</td>\n",
              "      <td>71.63</td>\n",
              "      <td>0.0</td>\n",
              "      <td>0.0</td>\n",
              "      <td>4</td>\n",
              "    </tr>\n",
              "    <tr>\n",
              "      <th>...</th>\n",
              "      <td>...</td>\n",
              "      <td>...</td>\n",
              "      <td>...</td>\n",
              "      <td>...</td>\n",
              "      <td>...</td>\n",
              "      <td>...</td>\n",
              "      <td>...</td>\n",
              "      <td>...</td>\n",
              "      <td>...</td>\n",
              "      <td>...</td>\n",
              "      <td>...</td>\n",
              "      <td>...</td>\n",
              "      <td>...</td>\n",
              "      <td>...</td>\n",
              "      <td>...</td>\n",
              "    </tr>\n",
              "    <tr>\n",
              "      <th>1629361</th>\n",
              "      <td>234115</td>\n",
              "      <td>2209-08-07 12:00:00</td>\n",
              "      <td>25723.0</td>\n",
              "      <td>94.0</td>\n",
              "      <td>96.0</td>\n",
              "      <td>56.0</td>\n",
              "      <td>65.000000</td>\n",
              "      <td>25.0</td>\n",
              "      <td>36.611111</td>\n",
              "      <td>96.0</td>\n",
              "      <td>210.0</td>\n",
              "      <td>54.94</td>\n",
              "      <td>1.0</td>\n",
              "      <td>0.0</td>\n",
              "      <td>43</td>\n",
              "    </tr>\n",
              "    <tr>\n",
              "      <th>1629362</th>\n",
              "      <td>234115</td>\n",
              "      <td>2209-08-07 13:00:00</td>\n",
              "      <td>25723.0</td>\n",
              "      <td>74.0</td>\n",
              "      <td>115.0</td>\n",
              "      <td>56.0</td>\n",
              "      <td>71.000000</td>\n",
              "      <td>19.0</td>\n",
              "      <td>NaN</td>\n",
              "      <td>97.0</td>\n",
              "      <td>NaN</td>\n",
              "      <td>54.94</td>\n",
              "      <td>1.0</td>\n",
              "      <td>0.0</td>\n",
              "      <td>44</td>\n",
              "    </tr>\n",
              "    <tr>\n",
              "      <th>1629363</th>\n",
              "      <td>234115</td>\n",
              "      <td>2209-08-07 14:00:00</td>\n",
              "      <td>25723.0</td>\n",
              "      <td>74.0</td>\n",
              "      <td>103.0</td>\n",
              "      <td>43.0</td>\n",
              "      <td>57.000000</td>\n",
              "      <td>22.0</td>\n",
              "      <td>NaN</td>\n",
              "      <td>97.0</td>\n",
              "      <td>NaN</td>\n",
              "      <td>54.94</td>\n",
              "      <td>1.0</td>\n",
              "      <td>0.0</td>\n",
              "      <td>45</td>\n",
              "    </tr>\n",
              "    <tr>\n",
              "      <th>1629364</th>\n",
              "      <td>234115</td>\n",
              "      <td>2209-08-07 15:00:00</td>\n",
              "      <td>25723.0</td>\n",
              "      <td>90.0</td>\n",
              "      <td>114.0</td>\n",
              "      <td>91.0</td>\n",
              "      <td>97.000000</td>\n",
              "      <td>19.0</td>\n",
              "      <td>NaN</td>\n",
              "      <td>95.0</td>\n",
              "      <td>162.5</td>\n",
              "      <td>54.94</td>\n",
              "      <td>1.0</td>\n",
              "      <td>0.0</td>\n",
              "      <td>46</td>\n",
              "    </tr>\n",
              "    <tr>\n",
              "      <th>1629365</th>\n",
              "      <td>234115</td>\n",
              "      <td>2209-08-07 16:00:00</td>\n",
              "      <td>25723.0</td>\n",
              "      <td>103.0</td>\n",
              "      <td>NaN</td>\n",
              "      <td>NaN</td>\n",
              "      <td>NaN</td>\n",
              "      <td>24.0</td>\n",
              "      <td>36.222222</td>\n",
              "      <td>93.0</td>\n",
              "      <td>NaN</td>\n",
              "      <td>54.94</td>\n",
              "      <td>1.0</td>\n",
              "      <td>0.0</td>\n",
              "      <td>47</td>\n",
              "    </tr>\n",
              "  </tbody>\n",
              "</table>\n",
              "<p>1236864 rows × 15 columns</p>\n",
              "</div>"
            ],
            "text/plain": [
              "         icustay_id            charttime  ...  expire_flag  time_step\n",
              "1055849      222148  2100-06-16 16:00:00  ...          0.0          0\n",
              "1055850      222148  2100-06-16 17:00:00  ...          0.0          1\n",
              "1055851      222148  2100-06-16 18:00:00  ...          0.0          2\n",
              "1055852      222148  2100-06-16 19:00:00  ...          0.0          3\n",
              "1055853      222148  2100-06-16 20:00:00  ...          0.0          4\n",
              "...             ...                  ...  ...          ...        ...\n",
              "1629361      234115  2209-08-07 12:00:00  ...          0.0         43\n",
              "1629362      234115  2209-08-07 13:00:00  ...          0.0         44\n",
              "1629363      234115  2209-08-07 14:00:00  ...          0.0         45\n",
              "1629364      234115  2209-08-07 15:00:00  ...          0.0         46\n",
              "1629365      234115  2209-08-07 16:00:00  ...          0.0         47\n",
              "\n",
              "[1236864 rows x 15 columns]"
            ]
          },
          "metadata": {
            "tags": []
          },
          "execution_count": 83
        }
      ]
    },
    {
      "cell_type": "code",
      "metadata": {
        "id": "G7NXvJMDSh7T"
      },
      "source": [
        "#re-initializing the variables used in the previous notebook\n",
        "\n",
        "variables = ['icustay_id','subject_id','HeartRate','SysBP','DiasBP','MeanBP','RespRate','TempC','SpO2','Glucose','first_admit_age','gender','time_step','expire_flag']\n",
        "ts_variables = ['HeartRate','SysBP','DiasBP','MeanBP','RespRate','TempC','SpO2','Glucose']"
      ],
      "execution_count": null,
      "outputs": []
    },
    {
      "cell_type": "markdown",
      "metadata": {
        "id": "NrTsOaGauBM-"
      },
      "source": [
        "# Exploratory Data Analysis (Cont'd)"
      ]
    },
    {
      "cell_type": "markdown",
      "metadata": {
        "id": "UXnDyt0PQ04y"
      },
      "source": [
        "In the last section we explored the missingness properties, here we will look at the overall distribution in the dataset, feature properties and trends in the data.\n",
        "\n",
        "We will first print a boxplot to see the statistical distribution of data. The outcome is partitioned by survivors and non survivors in the dataset."
      ]
    },
    {
      "cell_type": "code",
      "metadata": {
        "colab": {
          "base_uri": "https://localhost:8080/",
          "height": 498
        },
        "id": "qVjKAWzqQzKx",
        "outputId": "cd0dcca5-1116-4188-d5ef-16e8623b6b22"
      },
      "source": [
        "\n",
        "fig = plt.figure(figsize=(10,8))\n",
        "count = 0\n",
        "for variable in ts_variables:\n",
        "    count += 1\n",
        "    plt.subplot(4, 2, count)\n",
        "  \n",
        "    \n",
        "    # same but partitioned by outcome\n",
        "    ax = sns.boxplot(x = 'expire_flag', y=variable, data=df_final)\n",
        "    ax = sns.stripplot(x = 'expire_flag', y=variable, data=df_final, color='grey', jitter=0.2, size=0.5)\n",
        "\n",
        "plt.show()"
      ],
      "execution_count": null,
      "outputs": [
        {
          "output_type": "display_data",
          "data": {
            "image/png": "[encoded data removed]",
            "text/plain": [
              "<Figure size 720x576 with 8 Axes>"
            ]
          },
          "metadata": {
            "tags": [],
            "needs_background": "light"
          }
        }
      ]
    },
    {
      "cell_type": "markdown",
      "metadata": {
        "id": "BxlslSBwgrIB"
      },
      "source": [
        "In order to investigate trends across time , it is useful to visualize the mean of all the time series variables from time steps t=0 to t=47 partitioned by the corresponding mortality status .  "
      ]
    },
    {
      "cell_type": "code",
      "metadata": {
        "id": "yo_jK0NuLfEu",
        "colab": {
          "base_uri": "https://localhost:8080/",
          "height": 1000
        },
        "outputId": "e9ffd76c-892f-4da7-a986-9b109c9a03c0"
      },
      "source": [
        "fig = plt.figure(figsize=(22,15))\n",
        "count = 0\n",
        "for variable in ts_variables:\n",
        "    count += 1\n",
        "    data4clustering = df_final.pivot(columns='time_step', values=variable)\n",
        "    print('Plotting ' + str(data4clustering.count().sum()) + ' observations - ' + variable)    \n",
        "    class1 = data4clustering.loc[df_final[df_final['expire_flag']==1].index.unique()].mean()\n",
        "    class0 = data4clustering.loc[df_final[df_final['expire_flag']==0].index.unique()].mean()\n",
        "    plt.subplot(4, 2, count)\n",
        "    plt.plot(class1)\n",
        "    plt.plot(class0)\n",
        "    plt.xlabel('Hours in ICU stay')\n",
        "    plt.ylabel('Mean ' + variable)\n",
        "\n",
        "plt.legend(['Non-survivors', 'Survivors'])    \n",
        "plt.show()"
      ],
      "execution_count": null,
      "outputs": [
        {
          "output_type": "stream",
          "text": [
            "Plotting 1222651 observations - HeartRate\n",
            "Plotting 1168056 observations - SysBP\n",
            "Plotting 1167796 observations - DiasBP\n",
            "Plotting 1166058 observations - MeanBP\n",
            "Plotting 1200171 observations - RespRate\n",
            "Plotting 354087 observations - TempC\n",
            "Plotting 1152076 observations - SpO2\n",
            "Plotting 245952 observations - Glucose\n"
          ],
          "name": "stdout"
        },
        {
          "output_type": "display_data",
          "data": {
            "image/png": "[encoded data removed]",
            "text/plain": [
              "<Figure size 1584x1080 with 8 Axes>"
            ]
          },
          "metadata": {
            "tags": [],
            "needs_background": "light"
          }
        }
      ]
    },
    {
      "cell_type": "markdown",
      "metadata": {
        "id": "ygzFIllgsyxn"
      },
      "source": [
        "From the plot above we can see the physiological improvement or deterioration over the 48-hour period is very different for survival and non-survival groups. Following observations could be made from reviewing the trends:\n",
        "\n",
        "*   Heart Rate\n",
        "\n",
        "    -Lower in survivor groups\n",
        "\n",
        "    -Sharply drops off below 85 in the last few hours of non-survivor groups\n",
        "*   Systolic Blood Pressure\n",
        "\n",
        "      -Higher in survivor groups\n",
        "\n",
        "      -Sharply drops from 120 to lower values in the last few hours of the non-survivor groups\n",
        "*   Diastolic Blood Pressure\n",
        "\n",
        "    -Similar patterns observed in Mean and Systolic blood pressures\n",
        "*   Respiratory Rate\n",
        "\n",
        "     -Higher rates in non-survivors \n",
        "\n",
        "    -Fluctuation of values follow similar pattern between survivors and \n",
        "    non-survivors until first 35 hours\n",
        "*   Temperature\n",
        "\n",
        "    -Higher in survivor groups\n",
        "\n",
        "    -Goes down to very low values in last 10 hours for non-survivor groups\n",
        "*   SpO2\n",
        "\n",
        "    -Follows pretty much same trend until last 8-10 hours for both the\n",
        "    groups but the values drastically fall for the non-survivor groups in \n",
        "    the last leg.\n",
        "*   Glucose\n",
        "\n",
        "    -Fluctuation in values follows similar patterns in both the groups.\n",
        "    -Values are slightly higher for non survivors, but it shoots up to much \n",
        "    higher levels in the last few hours for non-survivor groups\n",
        "\n",
        "\n",
        "\n",
        "\n",
        "\n"
      ]
    },
    {
      "cell_type": "code",
      "metadata": {
        "colab": {
          "base_uri": "https://localhost:8080/",
          "height": 599
        },
        "id": "GqSNo309rRYD",
        "outputId": "7f145e99-3920-461e-cfbd-1623c675ee87"
      },
      "source": [
        "#lets see the correlation matrix for the entire dataset\n",
        "plt.figure(figsize=(20,10))\n",
        "sns.heatmap(df_final[ts_variables + ['expire_flag']].corr(),annot=True,vmin=-1, vmax=1)\n",
        "plt.show()"
      ],
      "execution_count": null,
      "outputs": [
        {
          "output_type": "display_data",
          "data": {
            "image/png": "[encoded data removed]",
            "text/plain": [
              "<Figure size 1440x720 with 2 Axes>"
            ]
          },
          "metadata": {
            "tags": [],
            "needs_background": "light"
          }
        }
      ]
    },
    {
      "cell_type": "markdown",
      "metadata": {
        "id": "3rsFbM2U1vZL"
      },
      "source": [
        "From the corelation matrix, we can infere that the Blood pressure readings are highly co-related however we shall still retain these features since these features are found to be predictive when training the models\n",
        "\n",
        "\n",
        "\n",
        "---\n"
      ]
    },
    {
      "cell_type": "markdown",
      "metadata": {
        "id": "zhw5x8RYbBzH"
      },
      "source": [
        "# Training and Testing Data Split\n",
        "\n",
        "The dataset is split into 3 categories of Training, Validation and Test Data set. 80% of the data is used to train the model, and the remaining 20% is split for Validation and Test Datasets. "
      ]
    },
    {
      "cell_type": "code",
      "metadata": {
        "id": "S8XiZpV5rfPZ"
      },
      "source": [
        "# split data into train, validation and test set\n",
        "id_train, id_test = train_test_split(df_final.icustay_id.unique(), test_size=0.2, random_state=0)\n",
        "id_train, id_val = train_test_split(id_train, test_size=0.2, random_state=0)\n",
        "id_train.sort()\n",
        "id_val.sort()\n",
        "id_test.sort()"
      ],
      "execution_count": null,
      "outputs": []
    },
    {
      "cell_type": "markdown",
      "metadata": {
        "id": "cJKxrrCOebKS"
      },
      "source": [
        "We will next check for the class balance in the Training Dataset"
      ]
    },
    {
      "cell_type": "code",
      "metadata": {
        "colab": {
          "base_uri": "https://localhost:8080/",
          "height": 478
        },
        "id": "RdGw7MTMhDVf",
        "outputId": "6069b69d-33ab-49fd-9a73-47cdf936865b"
      },
      "source": [
        "df_train = df_final[df_final.icustay_id.isin(id_train)]\n",
        "print('Percentage Split of the Mortality Classes in the Training Dataset')\n",
        "print('No. of instances of survivor classes: ',df_train.expire_flag.value_counts()[0]/48)\n",
        "print('Percentage of survivor class:',round(df_train.expire_flag.value_counts()[0]/len(df_train),2),'%')\n",
        "print('No. of instances of non-survivor classes: ',df_train.expire_flag.value_counts()[1]/48)\n",
        "print('Percentage of non-survivor class:',round(df_train.expire_flag.value_counts()[1]/len(df_train),2),'%\\n')\n",
        "labels = ['Survivors','Non-Survivors']\n",
        "countplt, ax = plt.subplots(figsize = (8,5))\n",
        "ax =sns.countplot(x = 'expire_flag', data=df_train, palette='pastel')\n",
        "ax.set_title('Mortality Class Distribution',fontsize = 18, fontweight='bold' )\n",
        "ax.set_xlabel('Survivor Vs Non-Survivors', fontsize = 15)\n",
        "ax.set_ylabel('Mortality Count', fontsize = 15)\n",
        "#ax.legend(['Survivors','Non-survivors'])\n"
      ],
      "execution_count": null,
      "outputs": [
        {
          "output_type": "stream",
          "text": [
            "Percentage Split of the Mortality Classes in the Training Dataset\n",
            "No. of instances of survivor classes:  8427.0\n",
            "Percentage of survivor class: 0.51 %\n",
            "No. of instances of non-survivor classes:  8064.0\n",
            "Percentage of non-survivor class: 0.49 %\n",
            "\n"
          ],
          "name": "stdout"
        },
        {
          "output_type": "execute_result",
          "data": {
            "text/plain": [
              "Text(0, 0.5, 'Mortality Count')"
            ]
          },
          "metadata": {
            "tags": []
          },
          "execution_count": 89
        },
        {
          "output_type": "display_data",
          "data": {
            "image/png": "[encoded data removed]",
            "text/plain": [
              "<Figure size 576x360 with 1 Axes>"
            ]
          },
          "metadata": {
            "tags": [],
            "needs_background": "light"
          }
        }
      ]
    },
    {
      "cell_type": "markdown",
      "metadata": {
        "id": "2xrfkhnugiGz"
      },
      "source": [
        "The dataset is fairly balanced therefore we can move forward without the need to resample the dataset to balance the class distribution."
      ]
    },
    {
      "cell_type": "markdown",
      "metadata": {
        "id": "q6hjLw86rqkM"
      },
      "source": [
        "# Dataset Preparation for capturing the Missing Data Indicators\n",
        "\n",
        "Before we move on with the training of dataset, we will build the datasets based on the modelling techniques discussed in the dissertation. For reviewing the performance of RNN LSTM and MLP models, following datasets will be constructed\n",
        "\n",
        "1. Zero Imputation only\n",
        "2. Forwardfill Imputation\n",
        "\n",
        "3. Zero Imputation with indicators\n",
        "\n",
        "4. Forwardfill with indicators\n",
        "\n",
        "5. With Indicators only\n",
        "\n",
        "\n",
        "---\n",
        "\n",
        "And for the rest of the models that cannot capture sequential data, we will be creating hand-engineered features and the datasets considered for these models are:\n",
        "\n",
        "1. Measurement only\n",
        "2. Indicators only\n",
        "3. Measurement with indicators\n"
      ]
    },
    {
      "cell_type": "markdown",
      "metadata": {
        "id": "dwx4_x-lsnFy"
      },
      "source": [
        "We will first create the Missing Data indicators before we begin with the construction of the datasets"
      ]
    },
    {
      "cell_type": "code",
      "metadata": {
        "colab": {
          "base_uri": "https://localhost:8080/"
        },
        "id": "HFsVwRN0smAc",
        "outputId": "e360eb39-a188-4157-8c34-f281a62a5ade"
      },
      "source": [
        "#Setting the indicators as '0' on observed data and '1' on non observed data (1)\n",
        "df_indicators=df_final.copy()\n",
        "\n",
        "for i in df_indicators.columns[3:-4]: #including only the time series variables\n",
        "  df_indicators[i+'_indicator'] = np.where(df_indicators[i].notnull(),0,1)\n",
        "\n",
        "#storing the indicator variables to a list\n",
        "indicator_variables = (df_indicators.columns[-(len(ts_variables)):]).to_list()\n",
        "indicator_variables"
      ],
      "execution_count": null,
      "outputs": [
        {
          "output_type": "execute_result",
          "data": {
            "text/plain": [
              "['HeartRate_indicator',\n",
              " 'SysBP_indicator',\n",
              " 'DiasBP_indicator',\n",
              " 'MeanBP_indicator',\n",
              " 'RespRate_indicator',\n",
              " 'TempC_indicator',\n",
              " 'SpO2_indicator',\n",
              " 'Glucose_indicator']"
            ]
          },
          "metadata": {
            "tags": []
          },
          "execution_count": 90
        }
      ]
    },
    {
      "cell_type": "code",
      "metadata": {
        "colab": {
          "base_uri": "https://localhost:8080/",
          "height": 394
        },
        "id": "WEnPdg_HEBAV",
        "outputId": "5ccdcbe4-3d28-4f0f-a9b0-f7aa70db6cde"
      },
      "source": [
        "#Check the indicator variables created\n",
        "df_indicators.head()"
      ],
      "execution_count": null,
      "outputs": [
        {
          "output_type": "execute_result",
          "data": {
            "text/html": [
              "<div>\n",
              "<style scoped>\n",
              "    .dataframe tbody tr th:only-of-type {\n",
              "        vertical-align: middle;\n",
              "    }\n",
              "\n",
              "    .dataframe tbody tr th {\n",
              "        vertical-align: top;\n",
              "    }\n",
              "\n",
              "    .dataframe thead th {\n",
              "        text-align: right;\n",
              "    }\n",
              "</style>\n",
              "<table border=\"1\" class=\"dataframe\">\n",
              "  <thead>\n",
              "    <tr style=\"text-align: right;\">\n",
              "      <th></th>\n",
              "      <th>icustay_id</th>\n",
              "      <th>charttime</th>\n",
              "      <th>subject_id</th>\n",
              "      <th>HeartRate</th>\n",
              "      <th>SysBP</th>\n",
              "      <th>DiasBP</th>\n",
              "      <th>MeanBP</th>\n",
              "      <th>RespRate</th>\n",
              "      <th>TempC</th>\n",
              "      <th>SpO2</th>\n",
              "      <th>Glucose</th>\n",
              "      <th>first_admit_age</th>\n",
              "      <th>gender</th>\n",
              "      <th>expire_flag</th>\n",
              "      <th>time_step</th>\n",
              "      <th>HeartRate_indicator</th>\n",
              "      <th>SysBP_indicator</th>\n",
              "      <th>DiasBP_indicator</th>\n",
              "      <th>MeanBP_indicator</th>\n",
              "      <th>RespRate_indicator</th>\n",
              "      <th>TempC_indicator</th>\n",
              "      <th>SpO2_indicator</th>\n",
              "      <th>Glucose_indicator</th>\n",
              "    </tr>\n",
              "  </thead>\n",
              "  <tbody>\n",
              "    <tr>\n",
              "      <th>1055849</th>\n",
              "      <td>222148</td>\n",
              "      <td>2100-06-16 16:00:00</td>\n",
              "      <td>12001.0</td>\n",
              "      <td>93.0</td>\n",
              "      <td>154.0</td>\n",
              "      <td>80.5</td>\n",
              "      <td>109.500000</td>\n",
              "      <td>13.0</td>\n",
              "      <td>NaN</td>\n",
              "      <td>100.0</td>\n",
              "      <td>NaN</td>\n",
              "      <td>71.63</td>\n",
              "      <td>0.0</td>\n",
              "      <td>0.0</td>\n",
              "      <td>0</td>\n",
              "      <td>0</td>\n",
              "      <td>0</td>\n",
              "      <td>0</td>\n",
              "      <td>0</td>\n",
              "      <td>0</td>\n",
              "      <td>1</td>\n",
              "      <td>0</td>\n",
              "      <td>1</td>\n",
              "    </tr>\n",
              "    <tr>\n",
              "      <th>1055850</th>\n",
              "      <td>222148</td>\n",
              "      <td>2100-06-16 17:00:00</td>\n",
              "      <td>12001.0</td>\n",
              "      <td>74.0</td>\n",
              "      <td>128.5</td>\n",
              "      <td>57.0</td>\n",
              "      <td>83.333351</td>\n",
              "      <td>11.0</td>\n",
              "      <td>NaN</td>\n",
              "      <td>100.0</td>\n",
              "      <td>NaN</td>\n",
              "      <td>71.63</td>\n",
              "      <td>0.0</td>\n",
              "      <td>0.0</td>\n",
              "      <td>1</td>\n",
              "      <td>0</td>\n",
              "      <td>0</td>\n",
              "      <td>0</td>\n",
              "      <td>0</td>\n",
              "      <td>0</td>\n",
              "      <td>1</td>\n",
              "      <td>0</td>\n",
              "      <td>1</td>\n",
              "    </tr>\n",
              "    <tr>\n",
              "      <th>1055851</th>\n",
              "      <td>222148</td>\n",
              "      <td>2100-06-16 18:00:00</td>\n",
              "      <td>12001.0</td>\n",
              "      <td>91.0</td>\n",
              "      <td>169.0</td>\n",
              "      <td>89.0</td>\n",
              "      <td>119.833500</td>\n",
              "      <td>14.0</td>\n",
              "      <td>NaN</td>\n",
              "      <td>98.0</td>\n",
              "      <td>NaN</td>\n",
              "      <td>71.63</td>\n",
              "      <td>0.0</td>\n",
              "      <td>0.0</td>\n",
              "      <td>2</td>\n",
              "      <td>0</td>\n",
              "      <td>0</td>\n",
              "      <td>0</td>\n",
              "      <td>0</td>\n",
              "      <td>0</td>\n",
              "      <td>1</td>\n",
              "      <td>0</td>\n",
              "      <td>1</td>\n",
              "    </tr>\n",
              "    <tr>\n",
              "      <th>1055852</th>\n",
              "      <td>222148</td>\n",
              "      <td>2100-06-16 19:00:00</td>\n",
              "      <td>12001.0</td>\n",
              "      <td>93.0</td>\n",
              "      <td>167.5</td>\n",
              "      <td>91.0</td>\n",
              "      <td>120.500000</td>\n",
              "      <td>14.0</td>\n",
              "      <td>37.111113</td>\n",
              "      <td>98.0</td>\n",
              "      <td>NaN</td>\n",
              "      <td>71.63</td>\n",
              "      <td>0.0</td>\n",
              "      <td>0.0</td>\n",
              "      <td>3</td>\n",
              "      <td>0</td>\n",
              "      <td>0</td>\n",
              "      <td>0</td>\n",
              "      <td>0</td>\n",
              "      <td>0</td>\n",
              "      <td>0</td>\n",
              "      <td>0</td>\n",
              "      <td>1</td>\n",
              "    </tr>\n",
              "    <tr>\n",
              "      <th>1055853</th>\n",
              "      <td>222148</td>\n",
              "      <td>2100-06-16 20:00:00</td>\n",
              "      <td>12001.0</td>\n",
              "      <td>88.0</td>\n",
              "      <td>168.5</td>\n",
              "      <td>77.0</td>\n",
              "      <td>110.666500</td>\n",
              "      <td>15.0</td>\n",
              "      <td>NaN</td>\n",
              "      <td>98.0</td>\n",
              "      <td>NaN</td>\n",
              "      <td>71.63</td>\n",
              "      <td>0.0</td>\n",
              "      <td>0.0</td>\n",
              "      <td>4</td>\n",
              "      <td>0</td>\n",
              "      <td>0</td>\n",
              "      <td>0</td>\n",
              "      <td>0</td>\n",
              "      <td>0</td>\n",
              "      <td>1</td>\n",
              "      <td>0</td>\n",
              "      <td>1</td>\n",
              "    </tr>\n",
              "  </tbody>\n",
              "</table>\n",
              "</div>"
            ],
            "text/plain": [
              "         icustay_id            charttime  ...  SpO2_indicator  Glucose_indicator\n",
              "1055849      222148  2100-06-16 16:00:00  ...               0                  1\n",
              "1055850      222148  2100-06-16 17:00:00  ...               0                  1\n",
              "1055851      222148  2100-06-16 18:00:00  ...               0                  1\n",
              "1055852      222148  2100-06-16 19:00:00  ...               0                  1\n",
              "1055853      222148  2100-06-16 20:00:00  ...               0                  1\n",
              "\n",
              "[5 rows x 23 columns]"
            ]
          },
          "metadata": {
            "tags": []
          },
          "execution_count": 91
        }
      ]
    },
    {
      "cell_type": "markdown",
      "metadata": {
        "id": "a5ZMWFDOvn79"
      },
      "source": [
        "We now move ahead with the creation of the datasets for RNN and LSTM models as discussed in the above section"
      ]
    },
    {
      "cell_type": "code",
      "metadata": {
        "colab": {
          "base_uri": "https://localhost:8080/",
          "height": 204
        },
        "id": "9G6e_Ah9ggaN",
        "outputId": "b2a6ded7-95b6-471f-e9e8-48fdee55a2a5"
      },
      "source": [
        "#Zero Impuation Dataset - Replacing all the null values with Zero\n",
        "df_zo = df_final.fillna(0)\n",
        "df_zo = df_zo[variables]\n",
        "df_zo.head()"
      ],
      "execution_count": null,
      "outputs": [
        {
          "output_type": "execute_result",
          "data": {
            "text/html": [
              "<div>\n",
              "<style scoped>\n",
              "    .dataframe tbody tr th:only-of-type {\n",
              "        vertical-align: middle;\n",
              "    }\n",
              "\n",
              "    .dataframe tbody tr th {\n",
              "        vertical-align: top;\n",
              "    }\n",
              "\n",
              "    .dataframe thead th {\n",
              "        text-align: right;\n",
              "    }\n",
              "</style>\n",
              "<table border=\"1\" class=\"dataframe\">\n",
              "  <thead>\n",
              "    <tr style=\"text-align: right;\">\n",
              "      <th></th>\n",
              "      <th>icustay_id</th>\n",
              "      <th>subject_id</th>\n",
              "      <th>HeartRate</th>\n",
              "      <th>SysBP</th>\n",
              "      <th>DiasBP</th>\n",
              "      <th>MeanBP</th>\n",
              "      <th>RespRate</th>\n",
              "      <th>TempC</th>\n",
              "      <th>SpO2</th>\n",
              "      <th>Glucose</th>\n",
              "      <th>first_admit_age</th>\n",
              "      <th>gender</th>\n",
              "      <th>time_step</th>\n",
              "      <th>expire_flag</th>\n",
              "    </tr>\n",
              "  </thead>\n",
              "  <tbody>\n",
              "    <tr>\n",
              "      <th>1055849</th>\n",
              "      <td>222148</td>\n",
              "      <td>12001.0</td>\n",
              "      <td>93.0</td>\n",
              "      <td>154.0</td>\n",
              "      <td>80.5</td>\n",
              "      <td>109.500000</td>\n",
              "      <td>13.0</td>\n",
              "      <td>0.000000</td>\n",
              "      <td>100.0</td>\n",
              "      <td>0.0</td>\n",
              "      <td>71.63</td>\n",
              "      <td>0.0</td>\n",
              "      <td>0</td>\n",
              "      <td>0.0</td>\n",
              "    </tr>\n",
              "    <tr>\n",
              "      <th>1055850</th>\n",
              "      <td>222148</td>\n",
              "      <td>12001.0</td>\n",
              "      <td>74.0</td>\n",
              "      <td>128.5</td>\n",
              "      <td>57.0</td>\n",
              "      <td>83.333351</td>\n",
              "      <td>11.0</td>\n",
              "      <td>0.000000</td>\n",
              "      <td>100.0</td>\n",
              "      <td>0.0</td>\n",
              "      <td>71.63</td>\n",
              "      <td>0.0</td>\n",
              "      <td>1</td>\n",
              "      <td>0.0</td>\n",
              "    </tr>\n",
              "    <tr>\n",
              "      <th>1055851</th>\n",
              "      <td>222148</td>\n",
              "      <td>12001.0</td>\n",
              "      <td>91.0</td>\n",
              "      <td>169.0</td>\n",
              "      <td>89.0</td>\n",
              "      <td>119.833500</td>\n",
              "      <td>14.0</td>\n",
              "      <td>0.000000</td>\n",
              "      <td>98.0</td>\n",
              "      <td>0.0</td>\n",
              "      <td>71.63</td>\n",
              "      <td>0.0</td>\n",
              "      <td>2</td>\n",
              "      <td>0.0</td>\n",
              "    </tr>\n",
              "    <tr>\n",
              "      <th>1055852</th>\n",
              "      <td>222148</td>\n",
              "      <td>12001.0</td>\n",
              "      <td>93.0</td>\n",
              "      <td>167.5</td>\n",
              "      <td>91.0</td>\n",
              "      <td>120.500000</td>\n",
              "      <td>14.0</td>\n",
              "      <td>37.111113</td>\n",
              "      <td>98.0</td>\n",
              "      <td>0.0</td>\n",
              "      <td>71.63</td>\n",
              "      <td>0.0</td>\n",
              "      <td>3</td>\n",
              "      <td>0.0</td>\n",
              "    </tr>\n",
              "    <tr>\n",
              "      <th>1055853</th>\n",
              "      <td>222148</td>\n",
              "      <td>12001.0</td>\n",
              "      <td>88.0</td>\n",
              "      <td>168.5</td>\n",
              "      <td>77.0</td>\n",
              "      <td>110.666500</td>\n",
              "      <td>15.0</td>\n",
              "      <td>0.000000</td>\n",
              "      <td>98.0</td>\n",
              "      <td>0.0</td>\n",
              "      <td>71.63</td>\n",
              "      <td>0.0</td>\n",
              "      <td>4</td>\n",
              "      <td>0.0</td>\n",
              "    </tr>\n",
              "  </tbody>\n",
              "</table>\n",
              "</div>"
            ],
            "text/plain": [
              "         icustay_id  subject_id  HeartRate  ...  gender  time_step  expire_flag\n",
              "1055849      222148     12001.0       93.0  ...     0.0          0          0.0\n",
              "1055850      222148     12001.0       74.0  ...     0.0          1          0.0\n",
              "1055851      222148     12001.0       91.0  ...     0.0          2          0.0\n",
              "1055852      222148     12001.0       93.0  ...     0.0          3          0.0\n",
              "1055853      222148     12001.0       88.0  ...     0.0          4          0.0\n",
              "\n",
              "[5 rows x 14 columns]"
            ]
          },
          "metadata": {
            "tags": []
          },
          "execution_count": 92
        }
      ]
    },
    {
      "cell_type": "code",
      "metadata": {
        "colab": {
          "base_uri": "https://localhost:8080/",
          "height": 224
        },
        "id": "SWV8foSBb_YF",
        "outputId": "03508450-305d-4be1-fa50-78d2243ff7ea"
      },
      "source": [
        "#Zero Imputation with Indicators - Including the indicator variables for every time series variables\n",
        "\n",
        "df_zi = df_indicators.copy()\n",
        "df_zi = df_zi[['icustay_id'] + ts_variables+ indicator_variables + ['gender','first_admit_age','time_step','expire_flag']]\n",
        "df_zi = df_zi.fillna(0)\n",
        "df_zi.head()"
      ],
      "execution_count": null,
      "outputs": [
        {
          "output_type": "execute_result",
          "data": {
            "text/html": [
              "<div>\n",
              "<style scoped>\n",
              "    .dataframe tbody tr th:only-of-type {\n",
              "        vertical-align: middle;\n",
              "    }\n",
              "\n",
              "    .dataframe tbody tr th {\n",
              "        vertical-align: top;\n",
              "    }\n",
              "\n",
              "    .dataframe thead th {\n",
              "        text-align: right;\n",
              "    }\n",
              "</style>\n",
              "<table border=\"1\" class=\"dataframe\">\n",
              "  <thead>\n",
              "    <tr style=\"text-align: right;\">\n",
              "      <th></th>\n",
              "      <th>icustay_id</th>\n",
              "      <th>HeartRate</th>\n",
              "      <th>SysBP</th>\n",
              "      <th>DiasBP</th>\n",
              "      <th>MeanBP</th>\n",
              "      <th>RespRate</th>\n",
              "      <th>TempC</th>\n",
              "      <th>SpO2</th>\n",
              "      <th>Glucose</th>\n",
              "      <th>HeartRate_indicator</th>\n",
              "      <th>SysBP_indicator</th>\n",
              "      <th>DiasBP_indicator</th>\n",
              "      <th>MeanBP_indicator</th>\n",
              "      <th>RespRate_indicator</th>\n",
              "      <th>TempC_indicator</th>\n",
              "      <th>SpO2_indicator</th>\n",
              "      <th>Glucose_indicator</th>\n",
              "      <th>gender</th>\n",
              "      <th>first_admit_age</th>\n",
              "      <th>time_step</th>\n",
              "      <th>expire_flag</th>\n",
              "    </tr>\n",
              "  </thead>\n",
              "  <tbody>\n",
              "    <tr>\n",
              "      <th>1055849</th>\n",
              "      <td>222148</td>\n",
              "      <td>93.0</td>\n",
              "      <td>154.0</td>\n",
              "      <td>80.5</td>\n",
              "      <td>109.500000</td>\n",
              "      <td>13.0</td>\n",
              "      <td>0.000000</td>\n",
              "      <td>100.0</td>\n",
              "      <td>0.0</td>\n",
              "      <td>0</td>\n",
              "      <td>0</td>\n",
              "      <td>0</td>\n",
              "      <td>0</td>\n",
              "      <td>0</td>\n",
              "      <td>1</td>\n",
              "      <td>0</td>\n",
              "      <td>1</td>\n",
              "      <td>0.0</td>\n",
              "      <td>71.63</td>\n",
              "      <td>0</td>\n",
              "      <td>0.0</td>\n",
              "    </tr>\n",
              "    <tr>\n",
              "      <th>1055850</th>\n",
              "      <td>222148</td>\n",
              "      <td>74.0</td>\n",
              "      <td>128.5</td>\n",
              "      <td>57.0</td>\n",
              "      <td>83.333351</td>\n",
              "      <td>11.0</td>\n",
              "      <td>0.000000</td>\n",
              "      <td>100.0</td>\n",
              "      <td>0.0</td>\n",
              "      <td>0</td>\n",
              "      <td>0</td>\n",
              "      <td>0</td>\n",
              "      <td>0</td>\n",
              "      <td>0</td>\n",
              "      <td>1</td>\n",
              "      <td>0</td>\n",
              "      <td>1</td>\n",
              "      <td>0.0</td>\n",
              "      <td>71.63</td>\n",
              "      <td>1</td>\n",
              "      <td>0.0</td>\n",
              "    </tr>\n",
              "    <tr>\n",
              "      <th>1055851</th>\n",
              "      <td>222148</td>\n",
              "      <td>91.0</td>\n",
              "      <td>169.0</td>\n",
              "      <td>89.0</td>\n",
              "      <td>119.833500</td>\n",
              "      <td>14.0</td>\n",
              "      <td>0.000000</td>\n",
              "      <td>98.0</td>\n",
              "      <td>0.0</td>\n",
              "      <td>0</td>\n",
              "      <td>0</td>\n",
              "      <td>0</td>\n",
              "      <td>0</td>\n",
              "      <td>0</td>\n",
              "      <td>1</td>\n",
              "      <td>0</td>\n",
              "      <td>1</td>\n",
              "      <td>0.0</td>\n",
              "      <td>71.63</td>\n",
              "      <td>2</td>\n",
              "      <td>0.0</td>\n",
              "    </tr>\n",
              "    <tr>\n",
              "      <th>1055852</th>\n",
              "      <td>222148</td>\n",
              "      <td>93.0</td>\n",
              "      <td>167.5</td>\n",
              "      <td>91.0</td>\n",
              "      <td>120.500000</td>\n",
              "      <td>14.0</td>\n",
              "      <td>37.111113</td>\n",
              "      <td>98.0</td>\n",
              "      <td>0.0</td>\n",
              "      <td>0</td>\n",
              "      <td>0</td>\n",
              "      <td>0</td>\n",
              "      <td>0</td>\n",
              "      <td>0</td>\n",
              "      <td>0</td>\n",
              "      <td>0</td>\n",
              "      <td>1</td>\n",
              "      <td>0.0</td>\n",
              "      <td>71.63</td>\n",
              "      <td>3</td>\n",
              "      <td>0.0</td>\n",
              "    </tr>\n",
              "    <tr>\n",
              "      <th>1055853</th>\n",
              "      <td>222148</td>\n",
              "      <td>88.0</td>\n",
              "      <td>168.5</td>\n",
              "      <td>77.0</td>\n",
              "      <td>110.666500</td>\n",
              "      <td>15.0</td>\n",
              "      <td>0.000000</td>\n",
              "      <td>98.0</td>\n",
              "      <td>0.0</td>\n",
              "      <td>0</td>\n",
              "      <td>0</td>\n",
              "      <td>0</td>\n",
              "      <td>0</td>\n",
              "      <td>0</td>\n",
              "      <td>1</td>\n",
              "      <td>0</td>\n",
              "      <td>1</td>\n",
              "      <td>0.0</td>\n",
              "      <td>71.63</td>\n",
              "      <td>4</td>\n",
              "      <td>0.0</td>\n",
              "    </tr>\n",
              "  </tbody>\n",
              "</table>\n",
              "</div>"
            ],
            "text/plain": [
              "         icustay_id  HeartRate  SysBP  ...  first_admit_age  time_step  expire_flag\n",
              "1055849      222148       93.0  154.0  ...            71.63          0          0.0\n",
              "1055850      222148       74.0  128.5  ...            71.63          1          0.0\n",
              "1055851      222148       91.0  169.0  ...            71.63          2          0.0\n",
              "1055852      222148       93.0  167.5  ...            71.63          3          0.0\n",
              "1055853      222148       88.0  168.5  ...            71.63          4          0.0\n",
              "\n",
              "[5 rows x 21 columns]"
            ]
          },
          "metadata": {
            "tags": []
          },
          "execution_count": 93
        }
      ]
    },
    {
      "cell_type": "code",
      "metadata": {
        "id": "A_MBtdKIyh4J"
      },
      "source": [
        "# Forward Fill Imputation\n",
        "\n",
        "#grouping is done to ensure values are copied from within 48- hour window period of each ICU stay\n",
        "df_fo = df_final.groupby('icustay_id')[variables].fillna(method='ffill')\n",
        "#replacing nan values missing at time step 0 with group's median\n",
        "df_fo = df_fo.groupby('icustay_id')[variables].fillna(value=df_fo[variables].mean())\n",
        "df_fo = df_fo.reset_index('icustay_id',drop=True)\n",
        "df_fo[df_fo['icustay_id'] == 222148].head(10)"
      ],
      "execution_count": null,
      "outputs": []
    },
    {
      "cell_type": "code",
      "metadata": {
        "id": "q0UblA5MwaBF"
      },
      "source": [
        "#Forward Fill Imputation With Indicators\n",
        "\n",
        "df_fi = df_fo.copy()\n",
        "#Joining the indicators variables to the forward fill imputed values\n",
        "df_fi = pd.concat([df_fi,df_indicators[indicator_variables]],axis=1)\n",
        "df_fi.head()"
      ],
      "execution_count": null,
      "outputs": []
    },
    {
      "cell_type": "code",
      "metadata": {
        "id": "Ay2H-LXZB5HX"
      },
      "source": [
        "#Missing Indicators only\n",
        "\n",
        "#Including only the time series variables since Age and Gender do not provide any missing indicator since they are always filled\n",
        "df_io = df_indicators[['icustay_id'] + indicator_variables +['time_step','expire_flag']]\n",
        "df_io.head()"
      ],
      "execution_count": null,
      "outputs": []
    },
    {
      "cell_type": "markdown",
      "metadata": {
        "id": "W7v9qEPtHJUv"
      },
      "source": [
        "Now we move on to create the Feature and Target class for Training, Validation and Testing datasets\n",
        "\n",
        "Each dataset type will first be split to three categories followed by assignment of target and feature classes."
      ]
    },
    {
      "cell_type": "code",
      "metadata": {
        "id": "5EW0_tK7Gf01"
      },
      "source": [
        "#Splitting each dataset type to Training, Validation and Testing datasets\n",
        "\n",
        "#Zero Imputation Datasets\n",
        "\n",
        "x_train_zo = (df_zo[df_zo.icustay_id.isin(id_train)]).sort_values(by=['icustay_id','time_step'])\n",
        "x_val_zo = (df_zo[df_zo.icustay_id.isin(id_val)]).sort_values(by=['icustay_id','time_step'])\n",
        "x_test_zo = (df_zo[df_zo.icustay_id.isin(id_test)]).sort_values(by=['icustay_id','time_step'])\n",
        "\n",
        "\n",
        "#Zero Imputation with indicators\n",
        "x_train_zi = (df_zi[df_zi.icustay_id.isin(id_train)]).sort_values(by=['icustay_id','time_step'])\n",
        "x_val_zi = (df_zi[df_zi.icustay_id.isin(id_val)]).sort_values(by=['icustay_id','time_step'])\n",
        "x_test_zi = (df_zi[df_zi.icustay_id.isin(id_test)]).sort_values(by=['icustay_id','time_step'])\n",
        "\n",
        "#Forward Filled Dataset\n",
        "x_train_fo = (df_fo[df_fo.icustay_id.isin(id_train)]).sort_values(by=['icustay_id','time_step'])\n",
        "x_val_fo = (df_fo[df_fo.icustay_id.isin(id_val)]).sort_values(by=['icustay_id','time_step'])\n",
        "x_test_fo = (df_fo[df_fo.icustay_id.isin(id_test)]).sort_values(by=['icustay_id','time_step'])\n",
        "\n",
        "#Forward fill with indicators\n",
        "x_train_fi = (df_fi[df_fi.icustay_id.isin(id_train)]).sort_values(by=['icustay_id','time_step'])\n",
        "x_val_fi = (df_fi[df_fi.icustay_id.isin(id_val)]).sort_values(by=['icustay_id','time_step'])\n",
        "x_test_fi = (df_fi[df_fi.icustay_id.isin(id_test)]).sort_values(by=['icustay_id','time_step'])\n",
        "\n",
        "#Indicators only\n",
        "x_train_io = (df_io[df_io.icustay_id.isin(id_train)]).sort_values(by=['icustay_id','time_step'])\n",
        "x_val_io = (df_io[df_io.icustay_id.isin(id_val)]).sort_values(by=['icustay_id','time_step'])\n",
        "x_test_io = (df_io[df_io.icustay_id.isin(id_test)]).sort_values(by=['icustay_id','time_step'])\n",
        "\n"
      ],
      "execution_count": null,
      "outputs": []
    },
    {
      "cell_type": "code",
      "metadata": {
        "id": "45ma9C6XIfQB"
      },
      "source": [
        "#Creating the feature and target classes\n",
        "\n",
        "features = ['HeartRate','SysBP','DiasBP','MeanBP','RespRate','TempC','SpO2','Glucose','first_admit_age','gender']\n",
        "\n",
        "#Zero Imputation Dataset\n",
        "\n",
        "y_train_zo = x_train_zo.groupby('icustay_id')['expire_flag'].mean() #to extract one output for every 48 hour sequential input and to fit it in output node for the neural models\n",
        "x_train_zo = x_train_zo[features]\n",
        "y_test_zo = x_test_zo.groupby('icustay_id')['expire_flag'].mean()\n",
        "x_test_zo = x_test_zo[features]\n",
        "y_val_zo = x_val_zo.groupby('icustay_id')['expire_flag'].mean()\n",
        "x_val_zo = x_val_zo[features]\n",
        "\n",
        "\n",
        "#Zero Imputation with Indicators\n",
        "\n",
        "y_train_zi = x_train_zi.groupby('icustay_id')['expire_flag'].mean() \n",
        "x_train_zi = x_train_zi[features+indicator_variables] #including the missing indicator variables to the feature list\n",
        "y_test_zi = x_test_zi.groupby('icustay_id')['expire_flag'].mean()\n",
        "x_test_zi = x_test_zi[features+indicator_variables]\n",
        "y_val_zi = x_val_zi.groupby('icustay_id')['expire_flag'].mean()\n",
        "x_val_zi = x_val_zi[features+indicator_variables]\n",
        "\n",
        "#Forward Fill Datasets\n",
        "\n",
        "y_train_fo = x_train_fo.groupby('icustay_id')['expire_flag'].mean() \n",
        "x_train_fo = x_train_fo[features] \n",
        "y_test_fo = x_test_fo.groupby('icustay_id')['expire_flag'].mean()\n",
        "x_test_fo = x_test_fo[features]\n",
        "y_val_fo = x_val_fo.groupby('icustay_id')['expire_flag'].mean()\n",
        "x_val_fo = x_val_fo[features]\n",
        "\n",
        "#Forward fill with indicators\n",
        "\n",
        "y_train_fi = x_train_fi.groupby('icustay_id')['expire_flag'].mean() \n",
        "x_train_fi = x_train_fi[features+indicator_variables] \n",
        "y_test_fi = x_test_fi.groupby('icustay_id')['expire_flag'].mean()\n",
        "x_test_fi = x_test_fi[features+indicator_variables]\n",
        "y_val_fi = x_val_fi.groupby('icustay_id')['expire_flag'].mean()\n",
        "x_val_fi = x_val_fi[features+indicator_variables]\n",
        "\n",
        "#Indicators only\n",
        "\n",
        "y_train_io = x_train_io.groupby('icustay_id')['expire_flag'].mean() \n",
        "x_train_io = x_train_io[indicator_variables] #adding only the indicator variables to the feature list\n",
        "y_test_io = x_test_io.groupby('icustay_id')['expire_flag'].mean()\n",
        "x_test_io = x_test_io[indicator_variables]\n",
        "y_val_io = x_val_io.groupby('icustay_id')['expire_flag'].mean()\n",
        "x_val_io = x_val_io[indicator_variables]\n"
      ],
      "execution_count": null,
      "outputs": []
    },
    {
      "cell_type": "markdown",
      "metadata": {
        "id": "2V7hkl1Sqg5t"
      },
      "source": [
        "Shaping the time series data to input the neural network models"
      ]
    },
    {
      "cell_type": "code",
      "metadata": {
        "id": "Nq5IzqECWvJh"
      },
      "source": [
        "#Function to convert the two dimensional datasets to 3-dimensional for running on the neural models\n",
        "def _2d_to_3d(X, n_steps):\n",
        "    _X = np.zeros((X.shape[0]//n_steps,n_steps,X.shape[1]))\n",
        "    for i in range(len(X)//n_steps):\n",
        "        _X[i,:] = X[i*n_steps:i*n_steps+n_steps]\n",
        "    return _X"
      ],
      "execution_count": null,
      "outputs": []
    },
    {
      "cell_type": "markdown",
      "metadata": {
        "id": "pdfj5pGb7RW4"
      },
      "source": [
        "In the above section we created the datasets for feeding the RNN and MLP models, next we will be creating the hand engineered features for training rest of the models. Following section will show how these features are extracted."
      ]
    },
    {
      "cell_type": "markdown",
      "metadata": {
        "id": "v1kuIbPbCP3M"
      },
      "source": [
        "# Feature Engineering for Non-Neural Network models\n",
        "\n",
        "In order to review the performance of Classifier models which are not best suited for sequential data input, we constructed features to extract meaningful information from the sequential data. The data will be transformed using the following aggregation operators on the time series variables:\n",
        "1. Maximum\n",
        "2. Minimum\n",
        "3. Standard Deviation\n",
        "4. Mean\n",
        "5. First Measurement\n",
        "6. Last Measurement\n",
        "7. 25th Percentile\n",
        "8. 75th Percentile\n",
        "\n",
        "We will be running these extracted features on following datasets:\n",
        "1. Measurement only \n",
        "2. Measurement and Indicators\n",
        "3. Indicators only\n",
        "\n",
        "The models considered for training from the hand-engineered features are:\n",
        "1. Logistic Regression\n",
        "2. Decision Tree\n",
        "3. Random Forest Classifier"
      ]
    },
    {
      "cell_type": "code",
      "metadata": {
        "id": "kPBiHL7gGeQ1"
      },
      "source": [
        "#Function to extract the aggregrated features\n",
        "\n",
        "def feat_extract(data,variables):\n",
        "\n",
        "    data_max = data.groupby(['icustay_id'])[variables].max()\n",
        "    data_max.columns = ['max_' + str(col) for col in data_max.columns]\n",
        "\n",
        "    data_min = data.groupby(['icustay_id'])[variables].min()\n",
        "    data_min.columns = ['min_' + str(col) for col in data_min.columns]\n",
        "    \n",
        "    data_sd = data.groupby(['icustay_id'])[variables].std()\n",
        "    data_sd.columns = ['sd_' + str(col) for col in data_sd.columns]\n",
        "\n",
        "    data_mean = data.groupby(['icustay_id'])[variables].mean()\n",
        "    data_mean.columns = ['mean_' + str(col) for col in data_mean.columns]\n",
        "\n",
        "    data_first = data.groupby(['icustay_id'])[variables].first()\n",
        "    data_first.columns = ['first_' + str(col) for col in data_first.columns]\n",
        "\n",
        "    data_last = data.groupby(['icustay_id'])[variables].last()\n",
        "    data_last.columns = ['last_' + str(col) for col in data_last.columns]\n",
        "\n",
        "    data_median = data.groupby(['icustay_id'])[variables].mean()\n",
        "    data_median.columns = ['mean_' + str(col) for col in data_median.columns]\n",
        "\n",
        "    data_75 = data.groupby(['icustay_id'])[variables].quantile(.75)\n",
        "    data_75.columns = ['75th%_' + str(col) for col in data_75.columns]\n",
        "\n",
        "    data_25 = data.groupby(['icustay_id'])[variables].quantile(.25)\n",
        "    data_25.columns = ['25th%_' + str(col) for col in data_25.columns]\n",
        "\n",
        "    data_agg = pd.concat([data_min,data_max,data_sd,data_mean,data_first,data_last,data_median,data_75,data_25],axis=1)\n",
        "    \n",
        "    return data_agg"
      ],
      "execution_count": null,
      "outputs": []
    },
    {
      "cell_type": "markdown",
      "metadata": {
        "id": "ydxo0KeavwHB"
      },
      "source": [
        "Creating Datasets from the hand - Engineered features "
      ]
    },
    {
      "cell_type": "code",
      "metadata": {
        "id": "vwNSjNyzJpbC"
      },
      "source": [
        "#Measurements Only Dataset\n",
        "\n",
        "#Copying the original dataset\n",
        "df_mo = df_final.copy()\n",
        "#Extract the features on this dataset\n",
        "variables_mo = ['icustay_id']+ts_variables\n",
        "df_mo = feat_extract(df_mo,ts_variables).dropna(axis=0)\n",
        "\n",
        "df_temp = df_final.set_index('icustay_id')\n",
        "expire_flag = df_temp.loc[df_mo.index]['expire_flag'].groupby(['icustay_id']).mean()\n",
        "age = df_temp.loc[df_mo.index]['first_admit_age'].groupby(['icustay_id']).mean()\n",
        "gender = df_temp.loc[df_mo.index]['gender'].groupby(['icustay_id']).mean()\n",
        "\n",
        "df_mo = pd.concat([df_mo, age, gender, expire_flag], axis=1).dropna(axis=0)\n",
        "df_mo.head()\n",
        "#df_m= df_mo.copy()"
      ],
      "execution_count": null,
      "outputs": []
    },
    {
      "cell_type": "markdown",
      "metadata": {
        "id": "h8KOq1NNwZwN"
      },
      "source": [
        "Next we create the dataset for Indicator values "
      ]
    },
    {
      "cell_type": "code",
      "metadata": {
        "id": "jWCCfBu2g2g2"
      },
      "source": [
        "#Copying the Indicator only dataset created for Neural models\n",
        "df_i = df_io.copy()\n",
        "\n",
        "#Extracting the indicator variables from the dataset\n",
        "df_i = feat_extract(df_i,indicator_variables)\n",
        "\n",
        "df_temp = df_final.set_index('icustay_id')\n",
        "expire_flag = df_temp.loc[df_mo.index]['expire_flag'].groupby(['icustay_id']).mean()\n",
        "age = df_temp.loc[df_mo.index]['first_admit_age'].groupby(['icustay_id']).mean()\n",
        "gender = df_temp.loc[df_mo.index]['gender'].groupby(['icustay_id']).mean()\n",
        "\n",
        "df_i = pd.concat([df_i, age, gender, expire_flag], axis=1).dropna(axis=0)\n",
        "df_i.head()"
      ],
      "execution_count": null,
      "outputs": []
    },
    {
      "cell_type": "markdown",
      "metadata": {
        "id": "cNDI-wFQ0Iyx"
      },
      "source": [
        "Creating the dataset with Measurements and Indicators "
      ]
    },
    {
      "cell_type": "code",
      "metadata": {
        "id": "fD8OwdmFhr5s"
      },
      "source": [
        "#Joining the above two datasets to create measurement and indicator dataset\n",
        "df_mi = pd.merge(df_mo,df_i, on=['icustay_id','expire_flag','first_admit_age','gender'], how='inner')"
      ],
      "execution_count": null,
      "outputs": []
    },
    {
      "cell_type": "markdown",
      "metadata": {
        "id": "f_F2YVOn0WHN"
      },
      "source": [
        "All the Datasets for running on Neural and Non Neural models has been created, we will next move on to training the models with the datasets prepared."
      ]
    },
    {
      "cell_type": "markdown",
      "metadata": {
        "id": "DFK57moqquxC"
      },
      "source": [
        "# Recurrent Neural Network  - Long Short Term Memory\n",
        "\n",
        "The first model to be implemented would be the RNN LSTM model, below function defines the architecture of the LSTM model. The model performance will be checked against all the dataset types created."
      ]
    },
    {
      "cell_type": "code",
      "metadata": {
        "id": "WORoTN6EYyoM"
      },
      "source": [
        "#LSTM model\n",
        "\n",
        "def lstm_model(x_train, y_train, x_val, y_val, n1, n2, drop_out, batch_size, epochs,lr,decay):\n",
        "\n",
        "  #Standardize the values\n",
        "  scaler = MinMaxScaler()\n",
        "  x_train = scaler.fit_transform(x_train)\n",
        "  x_val = scaler.fit_transform(x_val)\n",
        "\n",
        "  #Reshaping the input to fit into the model\n",
        "  x_train = _2d_to_3d(x_train,n_steps=48)\n",
        "  x_val = _2d_to_3d(x_val,n_steps=48)\n",
        "\n",
        "  #Extracting the time_steps and features\n",
        "  time_steps = x_train.shape[1]\n",
        "  features = x_train.shape[2]\n",
        "  \n",
        "  #Define model\n",
        "  model=Sequential()\n",
        "  model.add(LSTM(n1,input_shape=(time_steps,features), activation='tanh', return_sequences=True))\n",
        "  model.add(Dropout(drop_out))\n",
        "  model.add(LSTM(n2, activation='tanh', return_sequences=True))\n",
        "  model.add(Dropout(drop_out))\n",
        "  model.add(LSTM(64, activation='tanh', return_sequences=False))\n",
        "  model.add(Dropout(drop_out))\n",
        "  model.add(Dense(1,activation='sigmoid'))\n",
        "  #Setting the learning rate and weight decay values\n",
        "  adam = tf.keras.optimizers.Adam(learning_rate=lr, decay=decay) #1e-4, decay=1e-6\n",
        "  model.compile(loss='binary_crossentropy',optimizer=adam,metrics=[tf.keras.metrics.AUC()])\n",
        "\n",
        "  #Fitting the model\n",
        "  model.fit(x_train,y_train,batch_size=batch_size,epochs=epochs, verbose=1, validation_data=(x_val,y_val))\n",
        "  \n",
        "  return model\n"
      ],
      "execution_count": null,
      "outputs": []
    },
    {
      "cell_type": "markdown",
      "metadata": {
        "id": "7yLNJg20otCH"
      },
      "source": [
        "We will also create the function to evaluate the model's performance on each dataset type"
      ]
    },
    {
      "cell_type": "code",
      "metadata": {
        "id": "-2FqXGn2lJJR"
      },
      "source": [
        ""
      ],
      "execution_count": null,
      "outputs": []
    },
    {
      "cell_type": "code",
      "metadata": {
        "id": "ZwQ3-T3hjk2a"
      },
      "source": [
        "#Confusion Matrix Creation\n",
        "def plot_confusion_matrix(cm, classes,\n",
        "                        normalize=False,\n",
        "                        title='Confusion matrix',\n",
        "                        cmap=plt.cm.BuGn):\n",
        "    \"\"\"\n",
        "    This function prints and plots the confusion matrix.\n",
        "    Normalization can be applied by setting `normalize=True`.\n",
        "    \"\"\"\n",
        "    plt.imshow(cm, interpolation='nearest', cmap=cmap)\n",
        "    plt.title(title)\n",
        "    plt.colorbar()\n",
        "    tick_marks = np.arange(len(classes))\n",
        "    plt.xticks(tick_marks, classes, rotation=45)\n",
        "    plt.yticks(tick_marks, classes)\n",
        "\n",
        "    #if normalize:\n",
        "     #   cm = cm.astype('float') / cm.sum(axis=1)[:, np.newaxis]\n",
        "      #  print(\"Normalized confusion matrix\")\n",
        "    #else:\n",
        "     #   print('Confusion matrix, without normalization')\n",
        "\n",
        "    #print(cm)\n",
        "\n",
        "    thresh = cm.max() / 2.\n",
        "    for i, j in itertools.product(range(cm.shape[0]), range(cm.shape[1])):\n",
        "        plt.text(j, i, cm[i, j],\n",
        "            horizontalalignment=\"center\",\n",
        "            color=\"white\" if cm[i, j] > thresh else \"black\")\n",
        "\n",
        "    plt.tight_layout()\n",
        "    plt.ylabel('True label')\n",
        "    plt.xlabel('Predicted label')"
      ],
      "execution_count": null,
      "outputs": []
    },
    {
      "cell_type": "code",
      "metadata": {
        "id": "XHOqlK5KbfaK"
      },
      "source": [
        "#Function to generate the Confusion Matrix\n",
        "\n",
        "def make_confusion_matrix(cf,\n",
        "                          group_names=None,\n",
        "                          categories='auto',\n",
        "                          count=True,\n",
        "                          percent=True,\n",
        "                          cbar=True,\n",
        "                          xyticks=True,\n",
        "                          xyplotlabels=True,\n",
        "                          sum_stats=True,\n",
        "                          figsize=None,\n",
        "                          cmap='Blues',\n",
        "                          title=None):\n",
        "    '''\n",
        "    This function will make a pretty plot of an sklearn Confusion Matrix cm using a Seaborn heatmap visualization.\n",
        "    Arguments\n",
        "    ---------\n",
        "    cf:            confusion matrix to be passed in\n",
        "    group_names:   List of strings that represent the labels row by row to be shown in each square.\n",
        "    categories:    List of strings containing the categories to be displayed on the x,y axis. Default is 'auto'\n",
        "    count:         If True, show the raw number in the confusion matrix. Default is True.\n",
        "    normalize:     If True, show the proportions for each category. Default is True.\n",
        "    cbar:          If True, show the color bar. The cbar values are based off the values in the confusion matrix.\n",
        "                   Default is True.\n",
        "    xyticks:       If True, show x and y ticks. Default is True.\n",
        "    xyplotlabels:  If True, show 'True Label' and 'Predicted Label' on the figure. Default is True.\n",
        "    sum_stats:     If True, display summary statistics below the figure. Default is True.\n",
        "    figsize:       Tuple representing the figure size. Default will be the matplotlib rcParams value.\n",
        "    cmap:          Colormap of the values displayed from matplotlib.pyplot.cm. Default is 'Blues'\n",
        "                   See http://matplotlib.org/examples/color/colormaps_reference.html\n",
        "                   \n",
        "    title:         Title for the heatmap. Default is None.\n",
        "    '''\n",
        "\n",
        "\n",
        "    # CODE TO GENERATE TEXT INSIDE EACH SQUARE\n",
        "    blanks = ['' for i in range(cf.size)]\n",
        "\n",
        "    if group_names and len(group_names)==cf.size:\n",
        "        group_labels = [\"{}\\n\".format(value) for value in group_names]\n",
        "    else:\n",
        "        group_labels = blanks\n",
        "\n",
        "    if count:\n",
        "        group_counts = [\"{0:0.0f}\\n\".format(value) for value in cf.flatten()]\n",
        "    else:\n",
        "        group_counts = blanks\n",
        "\n",
        "    if percent:\n",
        "        #group_percentages = [\"{0:.2%}\".format(value) for value in cf.flatten()/np.sum(cf)]\n",
        "    #else:\n",
        "        group_percentages = blanks\n",
        "\n",
        "    box_labels = [f\"{v1}{v2}{v3}\".strip() for v1, v2, v3 in zip(group_labels,group_counts,group_percentages)]\n",
        "    box_labels = np.asarray(box_labels).reshape(cf.shape[0],cf.shape[1])\n",
        "\n",
        "\n",
        "    # CODE TO GENERATE SUMMARY STATISTICS & TEXT FOR SUMMARY STATS\n",
        "    if sum_stats:\n",
        "        #Accuracy is sum of diagonal divided by total observations\n",
        "        accuracy  = np.trace(cf) / float(np.sum(cf))\n",
        "\n",
        "        #if it is a binary confusion matrix, show some more stats\n",
        "        if len(cf)==2:\n",
        "            #Metrics for Binary Confusion Matrices\n",
        "            precision = cf[1,1] / sum(cf[:,1])\n",
        "            recall    = cf[1,1] / sum(cf[1,:])\n",
        "            f1_score  = 2*precision*recall / (precision + recall)\n",
        "            stats_text = \"\\n\\nAccuracy={:0.3f}\\nPrecision={:0.3f}\\nRecall={:0.3f}\\nF1 Score={:0.3f}\".format(\n",
        "                accuracy,precision,recall,f1_score)\n",
        "        else:\n",
        "            stats_text = \"\\n\\nAccuracy={:0.3f}\".format(accuracy)\n",
        "    else:\n",
        "        stats_text = \"\"\n",
        "\n",
        "\n",
        "    # SET FIGURE PARAMETERS ACCORDING TO OTHER ARGUMENTS\n",
        "    if figsize==None:\n",
        "        #Get default figure size if not set\n",
        "        figsize = plt.rcParams.get('figure.figsize')\n",
        "\n",
        "    if xyticks==False:\n",
        "        #Do not show categories if xyticks is False\n",
        "        categories=False\n",
        "\n",
        "\n",
        "    # MAKE THE HEATMAP VISUALIZATION\n",
        "    plt.figure(figsize=figsize)\n",
        "    sns.heatmap(cf,annot=box_labels,fmt=\"\",cmap=cmap,cbar=cbar,xticklabels=categories,yticklabels=categories)\n",
        "\n",
        "    if xyplotlabels:\n",
        "        plt.ylabel('True label')\n",
        "        plt.xlabel('Predicted label' + stats_text)\n",
        "    else:\n",
        "        plt.xlabel(stats_text)\n",
        "    \n",
        "    if title:\n",
        "        plt.title(title)\n",
        "\n",
        "\n",
        "############################################################################################################################\n",
        "\n",
        "\n",
        "#######################Evaluation function to review the LSTM model performance##############################################\n",
        "\n",
        "\n",
        "def model_eval(model,x_test,y_test):\n",
        "  \n",
        "  #Standardize the values\n",
        "  scaler = MinMaxScaler()\n",
        "  x_test = scaler.fit_transform(x_test)\n",
        "\n",
        "  #Reshaping the input to match the model parameters\n",
        "  x_test = _2d_to_3d(x_test,n_steps=48)\n",
        "\n",
        "  #yhat_probs = model.predict_proba(x_test)\n",
        "  yhat_probs = model.predict(x_test)\n",
        "  yhat_probs = yhat_probs[:,0]\n",
        "  yhat_classes = model.predict_classes(x_test)\n",
        "  #yhat_classes = np.argmax(model.predict(x_test), axis=-1)\n",
        "  yhat_classes = yhat_classes[:,0]\n",
        "\n",
        "  #Confusion Matrix\n",
        "  #cm_plot_labels = ['survivors','non-survivors']\n",
        "  #plot_confusion_matrix(cm=confusion_matrix(y_true=y_test, y_pred=yhat_classes), classes=cm_plot_labels, title='Confusion Matrix')\n",
        "\n",
        "  cf_matrix = confusion_matrix(y_true=y_test, y_pred=yhat_classes)\n",
        "  labels = ['True Neg','False Pos','False Neg','True Pos']\n",
        "  categories = ['Survivors', 'Non-Survivors']\n",
        "  make_confusion_matrix(cf_matrix, \n",
        "                      group_names=labels,\n",
        "                      categories=categories, \n",
        "                      cmap='icefire')\n",
        "\n",
        "  #Printing the classification report\n",
        "  #print('\\n\\n',classification_report(y_test, yhat_classes))\n",
        "  y_pred = model.predict(x_test).ravel()\n",
        "  fpr, tpr, thresholds = metrics.roc_curve(y_test, y_pred)\n",
        "  auc1 = metrics.auc(fpr, tpr)\n",
        "  print('AUC Score = ',round(auc1,4))\n",
        "  plt.figure(2)\n",
        "  plt.plot([0, 1], [0, 1], 'k--')\n",
        "  plt.plot(fpr, tpr, label='AUC (area = {:.3f})'.format(auc1))\n",
        "  plt.xlabel('False positive rate')\n",
        "  plt.ylabel('True positive rate')\n",
        "  plt.title('ROC curve')\n",
        "  plt.legend(loc='best')\n",
        "  plt.show()"
      ],
      "execution_count": null,
      "outputs": []
    },
    {
      "cell_type": "markdown",
      "metadata": {
        "id": "yh8pQ4FmvTwj"
      },
      "source": [
        "We now run the model on each type of dataset for LSTM model and look at its corresponding results. The metrics used to evaluate the results are AUC ROC curves, confusion matrix, Precision, Recall and F1 scores"
      ]
    },
    {
      "cell_type": "markdown",
      "metadata": {
        "id": "3Wc4hyNZYNFC"
      },
      "source": [
        "# Zero Imputation Dataset - LSTM Results"
      ]
    },
    {
      "cell_type": "code",
      "metadata": {
        "id": "WyS92DzaY_AV",
        "outputId": "3257934b-6b21-48f7-daa4-0c4446747fe4",
        "colab": {
          "base_uri": "https://localhost:8080/"
        }
      },
      "source": [
        "\n",
        "#Zero Imputation \n",
        "model_zo = lstm_model(x_train_zo,y_train_zo,x_val_zo,y_val_zo,n1=128,n2=64,drop_out=0.4, batch_size=64,epochs=40,lr=1e-4,decay=1e-6)\n"
      ],
      "execution_count": null,
      "outputs": [
        {
          "output_type": "stream",
          "text": [
            "Epoch 1/40\n",
            "115/258 [============>.................] - ETA: 6s - loss: 0.6787 - auc_10: 0.6031"
          ],
          "name": "stdout"
        }
      ]
    },
    {
      "cell_type": "code",
      "metadata": {
        "id": "CQSWFRlk5btx"
      },
      "source": [
        "print('\\n*****************Zero Imputation*******************\\n')\n",
        "model_eval(model_zo,x_test_zo,y_test_zo)"
      ],
      "execution_count": null,
      "outputs": []
    },
    {
      "cell_type": "markdown",
      "metadata": {
        "id": "29gvs_teYjrT"
      },
      "source": [
        "# Zero Imputation with Indicators - LSTM Results"
      ]
    },
    {
      "cell_type": "code",
      "metadata": {
        "id": "X5LzbuwXzRSP"
      },
      "source": [
        "#Zero Imputation with indicators\n",
        "print('**************************************Zero Imputation with indicators************************************')\n",
        "model_zi = lstm_model(x_train_zi,y_train_zi,x_val_zi,y_val_zi,n1=128,n2=128,drop_out=0.4, batch_size=32,epochs=45,lr=1e-4,decay=1e-6)\n",
        "\n"
      ],
      "execution_count": null,
      "outputs": []
    },
    {
      "cell_type": "code",
      "metadata": {
        "id": "xll3Gv4uAesK"
      },
      "source": [
        "print('\\n\\n*****************Zero Imputation with indicators*******************\\n\\n')\n",
        "model_eval(model_zi,x_test_zi,y_test_zi)"
      ],
      "execution_count": null,
      "outputs": []
    },
    {
      "cell_type": "code",
      "metadata": {
        "id": "qKBg7pi0M-oi"
      },
      "source": [
        "#model_zi.save('/content/drive/MyDrive')"
      ],
      "execution_count": null,
      "outputs": []
    },
    {
      "cell_type": "markdown",
      "metadata": {
        "id": "j9-2xLc504fC"
      },
      "source": [
        "# Forward Fill Dataset - LSTM Results"
      ]
    },
    {
      "cell_type": "code",
      "metadata": {
        "id": "OJ-4H8eG3LQ8"
      },
      "source": [
        "#Forward fill imputation \n",
        "print('\\n\\n**************************************Forward fill Imputation*******************************************')\n",
        "model_fo = lstm_model(x_train_fo,y_train_fo,x_val_fo,y_val_fo,n1=128,n2=64,drop_out=0.5, batch_size=64,epochs=40,lr=1e-4,decay=1e-7)\n",
        "\n"
      ],
      "execution_count": null,
      "outputs": []
    },
    {
      "cell_type": "code",
      "metadata": {
        "id": "q-phO3-OQcTp"
      },
      "source": [
        "print('\\n\\n*****************Forward Fill only****************************\\n\\n')\n",
        "model_eval(model_fo,x_test_fo,y_test_fo)"
      ],
      "execution_count": null,
      "outputs": []
    },
    {
      "cell_type": "code",
      "metadata": {
        "id": "BLuKR4mkILtn"
      },
      "source": [
        "model_eval(model_fo,x_val_fo,y_val_fo)"
      ],
      "execution_count": null,
      "outputs": []
    },
    {
      "cell_type": "markdown",
      "metadata": {
        "id": "K4YDYMYL0--j"
      },
      "source": [
        "# Forward Fill with Indicators - LSTM Results"
      ]
    },
    {
      "cell_type": "code",
      "metadata": {
        "id": "lC4XfYqf3NSB"
      },
      "source": [
        "#Forward fill with indicators \n",
        "print('\\n\\n**************************************Forward fill with indicatorss************************************')\n",
        "model_fi = lstm_model(x_train_fi,y_train_fi,x_val_fi,y_val_fi,n1=128,n2=64,drop_out=0.5, batch_size=64,epochs=45,lr=1e-4,decay=1e-7)\n",
        "\n"
      ],
      "execution_count": null,
      "outputs": []
    },
    {
      "cell_type": "code",
      "metadata": {
        "id": "jw84ebFNS0VJ"
      },
      "source": [
        "print('\\n\\n*****************Forward Fill with Indicators****************************\\n\\n')\n",
        "model_eval(model_fi,x_test_fi,y_test_fi)"
      ],
      "execution_count": null,
      "outputs": []
    },
    {
      "cell_type": "markdown",
      "metadata": {
        "id": "y4DCI8vs1Fhn"
      },
      "source": [
        "# Indicators only Dataset - LSTM Results"
      ]
    },
    {
      "cell_type": "code",
      "metadata": {
        "id": "Fpw2H2rf3Oyc"
      },
      "source": [
        "#Indicators only\n",
        "print('\\n\\n************************************** Indicators Only************************************************')\n",
        "model_io = lstm_model(x_train_io,y_train_io,x_val_io,y_val_io,n1=256,n2=256,drop_out=0.5, batch_size=64,epochs=50,lr=1e-4,decay=1e-7)"
      ],
      "execution_count": null,
      "outputs": []
    },
    {
      "cell_type": "code",
      "metadata": {
        "id": "_2PDwfdyVFMB"
      },
      "source": [
        "print('\\n\\n*****************Indicators Only****************************\\n\\n')\n",
        "model_eval(model_io,x_test_io,y_test_io)"
      ],
      "execution_count": null,
      "outputs": []
    },
    {
      "cell_type": "markdown",
      "metadata": {
        "id": "CSF5t8tOA_Ul"
      },
      "source": [
        "Let's look at the collective plot of ROC curves for all the datasets"
      ]
    },
    {
      "cell_type": "code",
      "metadata": {
        "id": "ue6nD3Dmwwgj"
      },
      "source": [
        "# Add all the model results and datasets types to a list\n",
        "models = [model_zo,model_fo,model_zi,model_fi,model_io]\n",
        "datasets_lstm = [x_test_zo,x_test_fo,x_test_zi,x_test_fi,x_test_io]\n",
        "y_test = y_test_zo\n",
        "\n",
        "datasets1 = []\n",
        "for i in datasets_lstm:\n",
        "  #Standardize the values\n",
        "  scaler = MinMaxScaler()\n",
        "  i = scaler.fit_transform(i)\n",
        "  #Reshaping the input to match the model parameters\n",
        "  i = _2d_to_3d(i,n_steps=48)\n",
        "  datasets1.append(i)\n",
        "\n",
        "# Define a result table as a DataFrame\n",
        "result_table = pd.DataFrame(columns=['datasets', 'fpr','tpr','auc'])\n",
        "\n",
        "res = dict(zip(models, datasets1)) \n",
        "\n",
        "# Train the models and record the results\n",
        "for model, x_test in res.items():\n",
        "   #model = cls.fit(X_train, y_train)\n",
        "    yproba = model.predict(x_test).ravel()\n",
        "    \n",
        "    fpr, tpr, _ = metrics.roc_curve(y_test,  yproba)\n",
        "    auc = metrics.roc_auc_score(y_test, yproba)\n",
        "    \n",
        "    result_table = result_table.append({'datasets':model.__class__.__name__,\n",
        "                                        'fpr':fpr, \n",
        "                                        'tpr':tpr, \n",
        "                                        'auc':auc}, ignore_index=True)\n",
        "\n",
        "# Set name of the classifiers as index labels\n",
        "result_table.set_index('datasets', inplace=True)"
      ],
      "execution_count": null,
      "outputs": []
    },
    {
      "cell_type": "code",
      "metadata": {
        "id": "-hG-Sy0X2oEw"
      },
      "source": [
        "fig = plt.figure(figsize=(12,8))\n",
        "\n",
        "dataset = ['Zero_Imputation_Only','Forward_Fill_Only','Zero_Imputation_with_Indicators','Forward_Fill_with_Indicators','Indicators_Only']\n",
        "result_table['dataset'] = dataset\n",
        "result_table = result_table.set_index('dataset')\n",
        "\n",
        "for i in result_table.index:\n",
        "    plt.plot(result_table.loc[i]['fpr'], \n",
        "             result_table.loc[i]['tpr'],\n",
        "            label=\"{}, AUC={:.3f}\".format(i, result_table.loc[i]['auc']))\n",
        "    \n",
        "plt.plot([0,1], [0,1], color='orange', linestyle='--')\n",
        "\n",
        "plt.xticks(np.arange(0.0, 1.1, step=0.1))\n",
        "plt.xlabel(\"Flase Positive Rate\", fontsize=15)\n",
        "\n",
        "plt.yticks(np.arange(0.0, 1.1, step=0.1))\n",
        "plt.ylabel(\"True Positive Rate\", fontsize=15)\n",
        "\n",
        "plt.title('ROC Curve Analysis for LSTM Model across All Datasets', fontweight='bold', fontsize=15)\n",
        "plt.legend(prop={'size':13}, loc='lower right')\n",
        "\n",
        "plt.show()"
      ],
      "execution_count": null,
      "outputs": []
    },
    {
      "cell_type": "markdown",
      "metadata": {
        "id": "RPv3pFxp1SrB"
      },
      "source": [
        "Next we will continue the experiment with Multilayer Perceptron Models"
      ]
    },
    {
      "cell_type": "markdown",
      "metadata": {
        "id": "ssr8ThOinEQJ"
      },
      "source": [
        "# Multilayer Perceptron"
      ]
    },
    {
      "cell_type": "code",
      "metadata": {
        "id": "qz6HeYTYleIf"
      },
      "source": [
        "def model_mlp(x_train, y_train, x_val, y_val, n1, n2, n3,drop_out,epochs):\n",
        "  \n",
        "  #Standardize the values\n",
        "  scaler = MinMaxScaler()\n",
        "  x_train = scaler.fit_transform(x_train)\n",
        "  x_val = scaler.fit_transform(x_val)\n",
        "\n",
        "  #Reshaping the input to fit into the model\n",
        "  x_train = _2d_to_3d(x_train,n_steps=48)\n",
        "  x_val = _2d_to_3d(x_val,n_steps=48)\n",
        "  n_input = x_train.shape[1] * x_train.shape[2]\n",
        "  x_train = x_train.reshape((x_train.shape[0],n_input))\n",
        "  n_input_val = x_val.shape[1] * x_val.shape[2]\n",
        "  x_val = x_val.reshape((x_val.shape[0],n_input_val))\n",
        "\n",
        "  #Defining the model\n",
        "  model1 = Sequential()\n",
        "  model1.add(Dense(n1, activation='relu',input_dim=n_input))\n",
        "  model1.add(Dropout(drop_out))\n",
        "  model1.add(Dense(n2, activation='relu'))\n",
        "  model1.add(Dropout(drop_out))\n",
        "  model1.add(Dense(n3, activation='relu'))\n",
        "  model1.add(Dropout(drop_out))\n",
        "  model1.add(Dense(1, activation= 'sigmoid'))\n",
        "  #adam = tf.keras.optimizers.Adam(learning_rate=1e-4, decay=1e-6)\n",
        "  model1.compile(loss= 'binary_crossentropy', optimizer=tf.keras.optimizers.SGD(), metrics=[tf.keras.metrics.AUC()])\n",
        "\n",
        "  #Fitting the model\n",
        "  model1.fit(x_train,y_train, epochs=epochs,validation_data=(x_val,y_val),shuffle=False)\n",
        "\n",
        "  return model1"
      ],
      "execution_count": null,
      "outputs": []
    },
    {
      "cell_type": "markdown",
      "metadata": {
        "id": "F6JfxudOY9Ey"
      },
      "source": [
        "Function to Evaluate MLP model performance"
      ]
    },
    {
      "cell_type": "code",
      "metadata": {
        "id": "GnPQu-Myw_J9"
      },
      "source": [
        "#Evaluation function for MLP model\n",
        "def mlp_eval(model,x_test,y_test):\n",
        "  \n",
        "  #Standardize the values\n",
        "  scaler = MinMaxScaler()\n",
        "  x_test = scaler.fit_transform(x_test)\n",
        "\n",
        "  #Reshaping the input to match the model parameters\n",
        "  x_test = _2d_to_3d(x_test,n_steps=48)\n",
        "\n",
        "  n_input = x_test.shape[1] * x_test.shape[2]\n",
        "  x_test = x_test.reshape((x_test.shape[0],n_input))\n",
        "\n",
        "  #yhat_probs = model.predict_proba(x_test)\n",
        "  yhat_probs = model.predict(x_test)\n",
        "  yhat_probs = yhat_probs[:,0]\n",
        "  yhat_classes = model.predict_classes(x_test)\n",
        "  #yhat_classes = np.argmax(model.predict(x_test), axis=-1)\n",
        "  yhat_classes = yhat_classes[:,0]\n",
        "\n",
        "  #Confusion Matrix\n",
        "  ##cm_plot_labels = ['survivors','non-survivors']\n",
        "  ##plot_confusion_matrix(cm=confusion_matrix(y_true=y_test, y_pred=yhat_classes), classes=cm_plot_labels, title='Confusion Matrix')\n",
        "  cf_matrix = confusion_matrix(y_true=y_test, y_pred=yhat_classes)\n",
        "  labels = ['True Neg','False Pos','False Neg','True Pos']\n",
        "  categories = ['Survivors', 'Non-Survivors']\n",
        "  make_confusion_matrix(cf_matrix, \n",
        "                      group_names=labels,\n",
        "                      categories=categories, \n",
        "                      cmap='icefire')\n",
        "  #Printing the classification report\n",
        "  ##print('\\n\\n',classification_report(y_test, yhat_classes))\n",
        "  y_pred = model.predict(x_test).ravel()\n",
        "  fpr, tpr, thresholds = metrics.roc_curve(y_test, y_pred)\n",
        "  auc1 = metrics.auc(fpr, tpr)\n",
        "  plt.figure(2)\n",
        "  plt.plot([0, 1], [0, 1], 'k--')\n",
        "  plt.plot(fpr, tpr, label='AUC (area = {:.3f})'.format(auc1))\n",
        "  plt.xlabel('False positive rate')\n",
        "  plt.ylabel('True positive rate')\n",
        "  plt.title('ROC curve')\n",
        "  plt.legend(loc='best')\n",
        "  plt.show()"
      ],
      "execution_count": null,
      "outputs": []
    },
    {
      "cell_type": "markdown",
      "metadata": {
        "id": "YEywE5UsZCj-"
      },
      "source": [
        "# Zero Imputation - MLP model and Results"
      ]
    },
    {
      "cell_type": "code",
      "metadata": {
        "id": "QNYqfa7oh6Ti"
      },
      "source": [
        "\n",
        "print('**************************************Zero Imputation only************************************')\n",
        "mlp_zo = model_mlp(x_train_zo,y_train_zo, x_val_zo, y_val_zo,n1=300,n2=200,n3=200, drop_out = 0.5, epochs = 30)\n",
        "\n"
      ],
      "execution_count": null,
      "outputs": []
    },
    {
      "cell_type": "code",
      "metadata": {
        "id": "JY3pCyleZR_g"
      },
      "source": [
        "print('\\n*****************Zero Imputation*******************\\n')\n",
        "mlp_eval(mlp_zo,x_test_zo,y_test_zo)"
      ],
      "execution_count": null,
      "outputs": []
    },
    {
      "cell_type": "markdown",
      "metadata": {
        "id": "G0Rkb3ulZjkU"
      },
      "source": [
        "# Zero Imputation with Indicators - MLP model and Results"
      ]
    },
    {
      "cell_type": "code",
      "metadata": {
        "id": "ZypxzSXUZR3Y"
      },
      "source": [
        "#Zero Imputation with indicators\n",
        "print('\\n\\n**************************************Zero Imputation with indicators************************************')\n",
        "mlp_zi = model_mlp(x_train_zi,y_train_zi,x_val_zi,y_val_zi,n1=300,n2=300,n3=200,drop_out=0.5,epochs=40)"
      ],
      "execution_count": null,
      "outputs": []
    },
    {
      "cell_type": "code",
      "metadata": {
        "id": "VF0ow4alZRoT"
      },
      "source": [
        "print('\\n\\n*****************Zero Imputation with indicators*******************\\n\\n')\n",
        "mlp_eval(mlp_zi,x_test_zi,y_test_zi)"
      ],
      "execution_count": null,
      "outputs": []
    },
    {
      "cell_type": "markdown",
      "metadata": {
        "id": "3PwTQyiMZroo"
      },
      "source": [
        "# Forward Fill only - MLP model and Results"
      ]
    },
    {
      "cell_type": "code",
      "metadata": {
        "id": "jFJu4S4NZz7E"
      },
      "source": [
        "#Forward fill imputation \n",
        "print('\\n\\n**************************************Forward fill Imputation*******************************************')\n",
        "mlp_fo = model_mlp(x_train_fo,y_train_fo,x_val_fo,y_val_fo,n1=400,n2=400,n3=400,drop_out=0.5,epochs=30)"
      ],
      "execution_count": null,
      "outputs": []
    },
    {
      "cell_type": "code",
      "metadata": {
        "id": "UyPAz1l3Z39L"
      },
      "source": [
        "print('\\n\\n*****************Forward Fill only****************************\\n\\n')\n",
        "mlp_eval(mlp_fo,x_test_fo,y_test_fo)"
      ],
      "execution_count": null,
      "outputs": []
    },
    {
      "cell_type": "markdown",
      "metadata": {
        "id": "CxdXHdzxZ7rG"
      },
      "source": [
        "# Forward Fill with Indicators - MLP model and Results"
      ]
    },
    {
      "cell_type": "code",
      "metadata": {
        "id": "gk6QSUaBaCDW"
      },
      "source": [
        "\n",
        "#Forward fill with indicators \n",
        "print('\\n\\n**************************************Forward fill with indicatorss************************************')\n",
        "mlp_fi = model_mlp(x_train_fi,y_train_fi,x_val_fi,y_val_fi,n1=500,n2=500, n3=500,drop_out=0.4,epochs=30)"
      ],
      "execution_count": null,
      "outputs": []
    },
    {
      "cell_type": "code",
      "metadata": {
        "id": "lQoY_xk1aEaS"
      },
      "source": [
        "print('\\n\\n*****************Forward Fill with Indicators****************************\\n\\n')\n",
        "mlp_eval(mlp_fi,x_test_fi,y_test_fi)"
      ],
      "execution_count": null,
      "outputs": []
    },
    {
      "cell_type": "markdown",
      "metadata": {
        "id": "NAJ6I-4LaH3f"
      },
      "source": [
        "# Indicators Only - MLP model and Results"
      ]
    },
    {
      "cell_type": "code",
      "metadata": {
        "id": "EFX_DNE_aHff"
      },
      "source": [
        "#Indicators only\n",
        "print('\\n\\n************************************** indicators Only************************************************')\n",
        "mlp_io = model_mlp(x_train_io,y_train_io,x_val_io,y_val_io,n1=300,n2=200,n3=100,drop_out=0.3,epochs=40)"
      ],
      "execution_count": null,
      "outputs": []
    },
    {
      "cell_type": "code",
      "metadata": {
        "id": "NzZA2ZOTZNPo"
      },
      "source": [
        "print('\\n\\n*****************Indicators Only****************************\\n\\n')\n",
        "mlp_eval(mlp_io,x_test_io,y_test_io)"
      ],
      "execution_count": null,
      "outputs": []
    },
    {
      "cell_type": "markdown",
      "metadata": {
        "id": "8IULzSSRGW1n"
      },
      "source": [
        "Lets look at ROC curve collectively for all the datasets"
      ]
    },
    {
      "cell_type": "code",
      "metadata": {
        "id": "6f3ELsJsHrJW"
      },
      "source": [
        "# Add all the model results and datasets types to a list\n",
        "models = [mlp_zo,mlp_fo,mlp_zi,mlp_fi,mlp_io]\n",
        "datasets_mlp = [x_test_zo,x_test_fo,x_test_zi,x_test_fi,x_test_io]\n",
        "y_test = y_test_zo\n",
        "\n",
        "datasets2 = []\n",
        "for i in datasets_mlp:\n",
        "  #Standardize the values\n",
        "  scaler = MinMaxScaler()\n",
        "  i = scaler.fit_transform(i)\n",
        "\n",
        "  #Reshaping the input to match the model parameters\n",
        "  i = _2d_to_3d(i,n_steps=48)\n",
        "\n",
        "  n_input = i.shape[1] * i.shape[2]\n",
        "  i = i.reshape((i.shape[0],n_input))\n",
        "  \n",
        "  datasets2.append(i)\n",
        "# Define a result table as a DataFrame\n",
        "result_table = pd.DataFrame(columns=['datasets', 'fpr','tpr','auc'])\n",
        "\n",
        "res = dict(zip(models, datasets2)) \n",
        "\n",
        "# Train the models and record the results\n",
        "for model, x_test in res.items():\n",
        "   #model = cls.fit(X_train, y_train)\n",
        "    yproba = model.predict(x_test).ravel()\n",
        "    \n",
        "    fpr, tpr, _ = metrics.roc_curve(y_test,  yproba)\n",
        "    auc = metrics.roc_auc_score(y_test, yproba)\n",
        "    \n",
        "    result_table = result_table.append({'datasets':model.__class__.__name__,\n",
        "                                        'fpr':fpr, \n",
        "                                        'tpr':tpr, \n",
        "                                        'auc':auc}, ignore_index=True)\n",
        "\n",
        "# Set name of the classifiers as index labels\n",
        "result_table.set_index('datasets', inplace=True)"
      ],
      "execution_count": null,
      "outputs": []
    },
    {
      "cell_type": "code",
      "metadata": {
        "id": "CBpN3Wi5HwEc"
      },
      "source": [
        "fig = plt.figure(figsize=(12,8))\n",
        "\n",
        "dataset = ['Zero_Imputation_Only','Forward_Fill_Only','Zero_Imputation_with_Indicators','Forward_Fill_with_Indicators','Indicators_Only']\n",
        "result_table['dataset'] = dataset\n",
        "result_table = result_table.set_index('dataset')\n",
        "\n",
        "for i in result_table.index:\n",
        "    plt.plot(result_table.loc[i]['fpr'], \n",
        "             result_table.loc[i]['tpr'],\n",
        "            label=\"{}, AUC={:.3f}\".format(i, result_table.loc[i]['auc']))\n",
        "    \n",
        "plt.plot([0,1], [0,1], color='orange', linestyle='--')\n",
        "\n",
        "plt.xticks(np.arange(0.0, 1.1, step=0.1))\n",
        "plt.xlabel(\"Flase Positive Rate\", fontsize=15)\n",
        "\n",
        "plt.yticks(np.arange(0.0, 1.1, step=0.1))\n",
        "plt.ylabel(\"True Positive Rate\", fontsize=15)\n",
        "\n",
        "plt.title('ROC Curve Analysis for MLP Model across All Datasets', fontweight='bold', fontsize=15)\n",
        "plt.legend(prop={'size':13}, loc='lower right')\n",
        "\n",
        "plt.show()"
      ],
      "execution_count": null,
      "outputs": []
    },
    {
      "cell_type": "code",
      "metadata": {
        "id": "BFPvFvwkCPqv"
      },
      "source": [
        ""
      ],
      "execution_count": null,
      "outputs": []
    },
    {
      "cell_type": "markdown",
      "metadata": {
        "id": "ZdMKbrPS1ka2"
      },
      "source": [
        "We have looked at the performance of both the neural models on the different datasets prepared, we will now move on to check the performance of classifier models on the hand-engineered features. Before we move on to train the models, feature extraction will be done to reduce the dimensionality of the datasets and the performance will be reviewed on datasets with both Extracted and non Extracted features\n",
        "\n",
        "\n",
        "\n",
        "\n",
        "\n",
        "\n",
        "\n"
      ]
    },
    {
      "cell_type": "code",
      "metadata": {
        "id": "6kqNwq6Wi7SI"
      },
      "source": [
        ""
      ],
      "execution_count": null,
      "outputs": []
    },
    {
      "cell_type": "markdown",
      "metadata": {
        "id": "nMeIMICMkjtr"
      },
      "source": [
        "# Feature Extraction \n",
        "\n",
        "From the datasets prepared using the hand-engineered features, we see the feature list for each dataset has gone up by 9 folds with aggregated values measurements taken for every time series variable. Due to the high number of features added, also comes the issue of multicollinearity with the presence of highly correlated features. In order to reduce the feature space and remove statistically insignificant variables, further process of feature extraction will be done where the variables with correlation coefficient equal or greater than ±0.8 wil be excluded from the feature list and the performance of the models were trained on both the extracted set and the complete set of features. "
      ]
    },
    {
      "cell_type": "code",
      "metadata": {
        "id": "4DatN5gLvZa6"
      },
      "source": [
        "#Selecting the features with low corelation coefficients, excluding the features with corelation value greater than or equal to 0.8\n",
        "\n",
        "#Extracting the features from the Actual Measurements Dataset\n",
        "\n",
        "corr= df_mo.corr(method='pearson')\n",
        "columns = np.full((corr.shape[0],), True, dtype=bool)\n",
        "for i in range(corr.shape[0]):\n",
        "    for j in range(i+1, corr.shape[0]):\n",
        "        if abs(corr.iloc[i,j]) >= 0.8:\n",
        "            if columns[j]:\n",
        "                columns[j] = False\n",
        "selected_columns = df_mo.columns[columns]\n",
        "print('Selected columns: ',selected_columns)\n",
        "\n",
        "#Filtering the dataframe with the selected columns;\n",
        "df_mo_ex=df_mo[selected_columns]\n",
        "print('Shape of the dataframe after dropping the columns: ',df_mo_ex.shape)"
      ],
      "execution_count": null,
      "outputs": []
    },
    {
      "cell_type": "markdown",
      "metadata": {
        "id": "QEJqPSVYrS9_"
      },
      "source": [
        "We created the Measurements only Dataset with extracted features, next we will move on to create the Indicators only Dataset with extracted features"
      ]
    },
    {
      "cell_type": "code",
      "metadata": {
        "id": "G0K91YexxpCq"
      },
      "source": [
        "#Performing same operation on the Indicator dataset\n",
        "corr= df_i.corr(method='pearson')\n",
        "columns = np.full((corr.shape[0],), True, dtype=bool)\n",
        "for i in range(corr.shape[0]):\n",
        "    for j in range(i+1, corr.shape[0]):\n",
        "        if abs(corr.iloc[i,j]) >= 0.8:\n",
        "            if columns[j]:\n",
        "                columns[j] = False\n",
        "selected_columns = df_i.columns[columns]\n",
        "print('Selected columns: ',selected_columns)\n",
        "\n",
        "#Filtering the dataframe with the selected columns;\n",
        "df_i_ex=df_i[selected_columns]\n",
        "print('Shape of the dataframe after dropping the columns: ',df_i_ex.shape)\n"
      ],
      "execution_count": null,
      "outputs": []
    },
    {
      "cell_type": "markdown",
      "metadata": {
        "id": "wSJDThcrrnSl"
      },
      "source": [
        "In order to create the 3rd category of hand-engineered dataset - 'Measurements and Indicators'. Features extracted from both the datasets above will be combined to create this dataset. "
      ]
    },
    {
      "cell_type": "code",
      "metadata": {
        "id": "pSJnDCcFyPv8"
      },
      "source": [
        "#Creating a measurements and indicators dataset with the extracted features\n",
        "\n",
        "df_mi_ex = pd.merge(df_mo_ex,df_i_ex, on=['icustay_id','expire_flag','first_admit_age','gender'], how='inner')"
      ],
      "execution_count": null,
      "outputs": []
    },
    {
      "cell_type": "code",
      "metadata": {
        "id": "FUGOlS2EylCy"
      },
      "source": [
        "df_mi_ex"
      ],
      "execution_count": null,
      "outputs": []
    },
    {
      "cell_type": "markdown",
      "metadata": {
        "id": "gFecuFdhzSuh"
      },
      "source": [
        "Creating the Training, Validation and Testing Datasets for all the aggregated datasets created above\n",
        "The datasets with extracted features and complete set of features, both will be considered for evaluation\n"
      ]
    },
    {
      "cell_type": "code",
      "metadata": {
        "id": "euFIN-oDyms5"
      },
      "source": [
        "\n",
        "#Measurement only with complete feature list\n",
        "x_train_mo = df_mo[df_mo.index.isin(id_train)]\n",
        "x_val_mo = df_mo[df_mo.index.isin(id_val)]\n",
        "x_test_mo = df_mo[df_mo.index.isin(id_test)]\n",
        "\n",
        "#Measurement only with extracted feature list\n",
        "x_train_mo_ex = df_mo_ex[df_mo_ex.index.isin(id_train)]\n",
        "x_val_mo_ex = df_mo_ex[df_mo_ex.index.isin(id_val)]\n",
        "x_test_mo_ex = df_mo_ex[df_mo_ex.index.isin(id_test)]\n",
        "\n",
        "#Indicators only with complete feature list\n",
        "x_train_i = df_i[df_i.index.isin(id_train)]\n",
        "x_val_i = df_i[df_i.index.isin(id_val)]\n",
        "x_test_i = df_i[df_i.index.isin(id_test)]\n",
        "\n",
        "#Indicator only with extracted feature list\n",
        "x_train_i_ex = df_i_ex[df_i_ex.index.isin(id_train)]\n",
        "x_val_i_ex = df_i_ex[df_i_ex.index.isin(id_val)]\n",
        "x_test_i_ex = df_i_ex[df_i_ex.index.isin(id_test)]\n",
        "\n",
        "#Measurements and Indicator with complete feature list\n",
        "x_train_mi = df_mi[df_mi.index.isin(id_train)]\n",
        "x_val_mi = df_mi[df_mi.index.isin(id_val)]\n",
        "x_test_mi = df_mi[df_mi.index.isin(id_test)]\n",
        "\n",
        "#Measurement and Indicator with extracted feature list\n",
        "x_train_mi_ex = df_mi_ex[df_mi_ex.index.isin(id_train)]\n",
        "x_val_mi_ex = df_mi_ex[df_mi_ex.index.isin(id_val)]\n",
        "x_test_mi_ex = df_mi_ex[df_mi_ex.index.isin(id_test)]"
      ],
      "execution_count": null,
      "outputs": []
    },
    {
      "cell_type": "markdown",
      "metadata": {
        "id": "k2j35Kmn1px2"
      },
      "source": [
        "Creating the feature and Target classes"
      ]
    },
    {
      "cell_type": "code",
      "metadata": {
        "id": "n3otmwoV1l8l"
      },
      "source": [
        "\n",
        "#Measurements only with and without extracted features\n",
        "y_train_mo = x_train_mo['expire_flag']\n",
        "x_train_mo = x_train_mo.drop('expire_flag', axis=1)\n",
        "\n",
        "y_test_mo = x_test_mo['expire_flag']\n",
        "x_test_mo = x_test_mo.drop('expire_flag', axis=1)\n",
        "\n",
        "y_train_mo_ex = x_train_mo_ex['expire_flag']\n",
        "x_train_mo_ex = x_train_mo_ex.drop('expire_flag',axis=1)\n",
        "\n",
        "y_test_mo_ex = x_test_mo_ex['expire_flag']\n",
        "x_test_mo_ex = x_test_mo_ex.drop('expire_flag',axis=1)\n",
        "\n",
        "#Measurements with Indicators - with and without extracted features\n",
        "\n",
        "y_train_i = x_train_i['expire_flag']\n",
        "x_train_i = x_train_i.drop('expire_flag', axis=1)\n",
        "\n",
        "y_test_i = x_test_i['expire_flag']\n",
        "x_test_i = x_test_i.drop('expire_flag', axis=1)\n",
        "\n",
        "y_train_i_ex = x_train_i_ex['expire_flag']\n",
        "x_train_i_ex = x_train_i_ex.drop('expire_flag',axis=1)\n",
        "\n",
        "y_test_i_ex = x_test_i_ex['expire_flag']\n",
        "x_test_i_ex = x_test_i_ex.drop('expire_flag',axis=1)\n",
        "\n",
        "#Measurement and Indicators  - with and without extracted featuers\n",
        "\n",
        "y_train_mi = x_train_mi['expire_flag']\n",
        "x_train_mi = x_train_mi.drop('expire_flag', axis=1)\n",
        "\n",
        "y_test_mi = x_test_mi['expire_flag']\n",
        "x_test_mi = x_test_mi.drop('expire_flag', axis=1)\n",
        "\n",
        "y_train_mi_ex = x_train_mi_ex['expire_flag']\n",
        "x_train_mi_ex = x_train_mi_ex.drop('expire_flag',axis=1)\n",
        "\n",
        "y_test_mi_ex = x_test_mi_ex['expire_flag']\n",
        "x_test_mi_ex = x_test_mi_ex.drop('expire_flag',axis=1)"
      ],
      "execution_count": null,
      "outputs": []
    },
    {
      "cell_type": "code",
      "metadata": {
        "id": "lRjnCbniNdst"
      },
      "source": [
        ""
      ],
      "execution_count": null,
      "outputs": []
    },
    {
      "cell_type": "markdown",
      "metadata": {
        "id": "-u8RPG8BvhU1"
      },
      "source": [
        "# Training the Non-Neural Network models with the hand-engineered Features"
      ]
    },
    {
      "cell_type": "markdown",
      "metadata": {
        "id": "vwEfYbjWvu3H"
      },
      "source": [
        "# Logistic Regression model"
      ]
    },
    {
      "cell_type": "code",
      "metadata": {
        "id": "Kiaing5f0HML"
      },
      "source": [
        "#Function to run and evaluate the Logistic Regression model\n",
        "def logistic_regression(x_train, y_train,x_test, y_test):\n",
        "\n",
        "  scaler=MinMaxScaler()\n",
        "  \n",
        "  x_train = scaler.fit_transform(x_train)\n",
        "  x_test = scaler.fit_transform(x_test)\n",
        "\n",
        "  model = LogisticRegression(max_iter=700,C=0.008)\n",
        "  model.fit(x_train, y_train)\n",
        "  y_pred = model.predict(x_test)\n",
        "\n",
        "  cf_matrix = confusion_matrix(y_test, y_pred)\n",
        "  labels = ['True Neg','False Pos','False Neg','True Pos']\n",
        "  categories = ['Survivors', 'Non-Survivors']\n",
        "  make_confusion_matrix(cf_matrix, \n",
        "                      group_names=labels,\n",
        "                      categories=categories, \n",
        "                      cmap='icefire')\n",
        "  #confusion_matrix1 =  confusion_matrix(y_test, y_pred)\n",
        "  #print(confusion_matrix1)\n",
        "  #print(classification_report(y_test, y_pred))\n",
        "  logit_roc_auc = roc_auc_score(y_test, model.predict(x_test))\n",
        "  fpr, tpr, thresholds = roc_curve(y_test, model.predict_proba(x_test)[:,1])\n",
        "  print('Accuracy of Logistic Regression Classifier on test set: {:.2f}'.format(model.score(x_test, y_test)))\n",
        "  print('AUC Score: ',round(logit_roc_auc,2))\n",
        "  plt.figure()\n",
        "  plt.plot(fpr, tpr, label='Logistic Regression (area = %0.2f)' %logit_roc_auc)\n",
        "  plt.plot([0, 1], [0, 1],'r--')\n",
        "  plt.xlim([0.0, 1.0])\n",
        "  plt.ylim([0.0, 1.05])\n",
        "  plt.xlabel('False Positive Rate')\n",
        "  plt.ylabel('True Positive Rate')\n",
        "  plt.title('Receiver operating characteristic')\n",
        "  plt.legend(loc=\"lower right\")\n",
        "  plt.savefig('Log_ROC')\n",
        "  plt.show()\n",
        "  return model\n"
      ],
      "execution_count": null,
      "outputs": []
    },
    {
      "cell_type": "markdown",
      "metadata": {
        "id": "Luq2ET9av6Rn"
      },
      "source": [
        "Logistic Regression - Measurements Only Dataset\n",
        "\n",
        "---\n",
        "\n"
      ]
    },
    {
      "cell_type": "code",
      "metadata": {
        "id": "ENLB5YhG3mzV"
      },
      "source": [
        "print('\\nOnly Measurements without extracted features: \\n')\n",
        "lr_mo = logistic_regression(x_train_mo,y_train_mo.ravel(),x_test_mo,y_test_mo.ravel())\n",
        "print('===========================================================\\nMeasurements only with extracted features: \\n')\n",
        "lr_mo_ex = logistic_regression(x_train_mo_ex,y_train_mo_ex.ravel(),x_test_mo_ex,y_test_mo_ex.ravel())\n"
      ],
      "execution_count": null,
      "outputs": []
    },
    {
      "cell_type": "markdown",
      "metadata": {
        "id": "DxANFdfZwHdo"
      },
      "source": [
        "Logistic Regression - Indicators only Dataset \n",
        "\n",
        "---\n",
        "\n"
      ]
    },
    {
      "cell_type": "code",
      "metadata": {
        "id": "rMnBqLO0cP5e"
      },
      "source": [
        "print('\\nOnly Indicators without extracted features: \\n')\n",
        "lr_i = logistic_regression(x_train_i,y_train_i.ravel(),x_test_i,y_test_i.ravel())\n",
        "print('===========================================================\\nIndicators only with extracted features: \\n')\n",
        "lr_i_ex = logistic_regression(x_train_i_ex,y_train_i_ex.ravel(),x_test_i_ex,y_test_i_ex.ravel())"
      ],
      "execution_count": null,
      "outputs": []
    },
    {
      "cell_type": "markdown",
      "metadata": {
        "id": "GB4rsPuUwOOy"
      },
      "source": [
        "Logistic Regression - Measurements and Indicators Dataset\n",
        "\n",
        "---\n",
        "\n"
      ]
    },
    {
      "cell_type": "code",
      "metadata": {
        "id": "VXY8VIhKcUQD"
      },
      "source": [
        "print('\\n Measurements & Indicators without extracted features: \\n')\n",
        "lr_mi = logistic_regression(x_train_mi,y_train_mi.ravel(),x_test_mi,y_test_mi.ravel())\n",
        "print('===========================================================\\nMeasurements & Indicators with extracted features: \\n')\n",
        "lr_mi_ex = logistic_regression(x_train_mi_ex,y_train_mi_ex.ravel(),x_test_mi_ex,y_test_mi_ex.ravel())"
      ],
      "execution_count": null,
      "outputs": []
    },
    {
      "cell_type": "markdown",
      "metadata": {
        "id": "eodjuwIowYR1"
      },
      "source": [
        "We will now look at the ROC curves for all the dataset types in a single plot. "
      ]
    },
    {
      "cell_type": "code",
      "metadata": {
        "id": "de9TDJdfTFEU"
      },
      "source": [
        "# Add all the model results and datasets types to a list\n",
        "datasets_lr = [x_test_mo_ex,x_test_mi_ex, x_test_i_ex]\n",
        "d_train = [x_train_mo_ex,x_train_mi_ex,x_train_i_ex]\n",
        "y_test = y_test_mo\n",
        "y_train = y_train_mo\n",
        "\n",
        "# Define a result table as a DataFrame\n",
        "result_table = pd.DataFrame(columns=['datasets', 'fpr','tpr','auc'])\n",
        "\n",
        "#res = dict(zip(d_train, datasets_lr)) \n",
        "logreg = LogisticRegression(max_iter=500,C=0.008)\n",
        "# Train the models and record the results\n",
        "for x_train, x_test in zip(d_train, datasets_lr):\n",
        "  model = logreg.fit(x_train, y_train)\n",
        "  yproba = model.predict(x_test)\n",
        "    \n",
        "  fpr, tpr, _ = metrics.roc_curve(y_test, model.predict_proba(x_test)[:,1])\n",
        "  auc = metrics.roc_auc_score(y_test, model.predict(x_test))\n",
        "\n",
        "  #logit_roc_auc = roc_auc_score(y_test, logreg.predict(x_test))\n",
        "  #fpr, tpr, thresholds = roc_curve(y_test, logreg.predict_proba(x_test)[:,1])\n",
        "    \n",
        "  result_table = result_table.append({'datasets':model.__class__.__name__,\n",
        "                                        'fpr':fpr, \n",
        "                                        'tpr':tpr, \n",
        "                                        'auc':auc}, ignore_index=True)\n",
        "    \n",
        "\n",
        "\n",
        "# Set name of the classifiers as index labels\n",
        "result_table.set_index('datasets', inplace=True)\n"
      ],
      "execution_count": null,
      "outputs": []
    },
    {
      "cell_type": "code",
      "metadata": {
        "id": "8YVeArn8TFEW"
      },
      "source": [
        "fig = plt.figure(figsize=(12,8))\n",
        "\n",
        "dataset = ['Measurements_Only','Measurements with indicators','Indicators_only']\n",
        "result_table['dataset'] = dataset\n",
        "result_table = result_table.set_index('dataset')\n",
        "\n",
        "for i in result_table.index:\n",
        "    plt.plot(result_table.loc[i]['fpr'], \n",
        "             result_table.loc[i]['tpr'],\n",
        "            label=\"{}, AUC={:.3f}\".format(i, result_table.loc[i]['auc']))\n",
        "    \n",
        "plt.plot([0,1], [0,1], color='orange', linestyle='--')\n",
        "\n",
        "plt.xticks(np.arange(0.0, 1.1, step=0.1))\n",
        "plt.xlabel(\"Flase Positive Rate\", fontsize=15)\n",
        "\n",
        "plt.yticks(np.arange(0.0, 1.1, step=0.1))\n",
        "plt.ylabel(\"True Positive Rate\", fontsize=15)\n",
        "\n",
        "plt.title('ROC Curve Analysis for Logistic Regression Model across All Datasets', fontweight='bold', fontsize=15)\n",
        "plt.legend(prop={'size':13}, loc='lower right')\n",
        "\n",
        "plt.show()"
      ],
      "execution_count": null,
      "outputs": []
    },
    {
      "cell_type": "markdown",
      "metadata": {
        "id": "C8h575TzvKWe"
      },
      "source": [
        "# Decision Tree"
      ]
    },
    {
      "cell_type": "code",
      "metadata": {
        "id": "3WTNtZcU87mI"
      },
      "source": [
        "#Function to run and evaluate the Decision Tree model \n",
        "\n",
        "def dt_classifier(x_train, y_train, x_test, y_test):\n",
        "\n",
        "  clf_gini = DecisionTreeClassifier(criterion = 'gini', max_depth = 10, min_samples_leaf = 60,\n",
        "                                  min_samples_split = 40, random_state = 2, splitter = 'best')\n",
        "\n",
        "  clf_gini.fit(x_train, y_train)\n",
        "  y_pred = clf_gini.predict(x_test)\n",
        "\n",
        "  cf_matrix = confusion_matrix(y_test, y_pred)\n",
        "  labels = ['True Neg','False Pos','False Neg','True Pos']\n",
        "  categories = ['Survivors', 'Non-Survivors']\n",
        "  make_confusion_matrix(cf_matrix, \n",
        "                      group_names=labels,\n",
        "                      categories=categories, \n",
        "                      cmap='icefire')\n",
        "\n",
        "  #confusion_matrix1 =  confusion_matrix(y_test, y_pred)\n",
        "  #print(confusion_matrix1)\n",
        "  #print(classification_report(y_test, y_pred))\n",
        "  roc_auc = roc_auc_score(y_test, clf_gini.predict(x_test))\n",
        "  fpr, tpr, thresholds = metrics.roc_curve(y_test, clf_gini.predict_proba(x_test)[:,1])\n",
        "  print('Accuracy of Decision Tree classifier on test set: {:.3f}'.format(clf_gini.score(x_test, y_test)))\n",
        "  print('AUC score = ', round(roc_auc,3))\n",
        "  plt.figure()\n",
        "  plt.plot(fpr, tpr, label='Decision Tree Classifier (area = %0.3f)' %roc_auc)\n",
        "  plt.plot([0, 1], [0, 1],'r--')\n",
        "  plt.xlim([0.0, 1.0])\n",
        "  plt.ylim([0.0, 1.05])\n",
        "  plt.xlabel('False Positive Rate')\n",
        "  plt.ylabel('True Positive Rate')\n",
        "  plt.title('Receiver operating characteristic')\n",
        "  plt.legend(loc=\"lower right\")\n",
        "  plt.savefig('Log_ROC')\n",
        "  plt.show()\n",
        "  return clf_gini"
      ],
      "execution_count": null,
      "outputs": []
    },
    {
      "cell_type": "markdown",
      "metadata": {
        "id": "LqGYv-DLvFGV"
      },
      "source": [
        "Decision Tree - Measurements Only Dataset\n",
        "\n",
        "---\n",
        "\n"
      ]
    },
    {
      "cell_type": "code",
      "metadata": {
        "id": "_v0siHKV8-17"
      },
      "source": [
        "print('\\nOnly Measurements without extracted features: \\n')\n",
        "dt_mo = dt_classifier(x_train_mo,y_train_mo.ravel(),x_test_mo,y_test_mo.ravel())\n",
        "print('===========================================================\\nMeasurements only with extracted features: \\n')\n",
        "dt_mo_ex = dt_classifier(x_train_mo_ex,y_train_mo_ex.ravel(),x_test_mo_ex,y_test_mo_ex.ravel())\n"
      ],
      "execution_count": null,
      "outputs": []
    },
    {
      "cell_type": "markdown",
      "metadata": {
        "id": "wJqIrDKAu-3m"
      },
      "source": [
        "Decision Tree - Indicator Only Dataset\n",
        "\n",
        "---\n",
        "\n"
      ]
    },
    {
      "cell_type": "code",
      "metadata": {
        "id": "7g8FXrctdHlw"
      },
      "source": [
        "\n",
        "print('\\nOnly Indicators without extracted features: \\n')\n",
        "dt_i = dt_classifier(x_train_i,y_train_i.ravel(),x_test_i,y_test_i.ravel())\n",
        "print('===========================================================\\nIndicators only with extracted features: \\n')\n",
        "dt_i_ex = dt_classifier(x_train_i_ex,y_train_i_ex.ravel(),x_test_i_ex,y_test_i_ex.ravel())\n"
      ],
      "execution_count": null,
      "outputs": []
    },
    {
      "cell_type": "markdown",
      "metadata": {
        "id": "rsIU94aAuzpf"
      },
      "source": [
        "Decision Tree - Measurements and Indicator Dataset\n",
        "\n",
        "---\n",
        "\n"
      ]
    },
    {
      "cell_type": "code",
      "metadata": {
        "id": "2iCEqXKJdLNV"
      },
      "source": [
        "\n",
        "print('\\n Measurements & Indicators without extracted features: \\n')\n",
        "dt_mi = dt_classifier(x_train_mi,y_train_mi.ravel(),x_test_mi,y_test_mi.ravel())\n",
        "print('===========================================================\\nMeasurements & Indicators with extracted features: \\n')\n",
        "dt_mi_ex = dt_classifier(x_train_mi_ex,y_train_mi_ex.ravel(),x_test_mi_ex,y_test_mi_ex.ravel())"
      ],
      "execution_count": null,
      "outputs": []
    },
    {
      "cell_type": "markdown",
      "metadata": {
        "id": "5EMiomhLw1hc"
      },
      "source": [
        "We will now look at the ROC curves for all the dataset types in a single plot."
      ]
    },
    {
      "cell_type": "code",
      "metadata": {
        "id": "ZP9mK4pmUy2U"
      },
      "source": [
        "# Add all the model results and datasets types to a list\n",
        "datasets_dt = [x_test_mo,x_test_mi,x_test_i_ex]\n",
        "models = [dt_mo,dt_mi, dt_i_ex]\n",
        "y_test = y_test_mo\n",
        "\n",
        "# Define a result table as a DataFrame\n",
        "result_table = pd.DataFrame(columns=['datasets', 'fpr','tpr','auc'])\n",
        "\n",
        "res = dict(zip(models, datasets_dt)) \n",
        "\n",
        "# Train the models and record the results\n",
        "for model, x_test in res.items():\n",
        "   #model = cls.fit(X_train, y_train)\n",
        "    yproba = model.predict(x_test)\n",
        "\n",
        "    fpr, tpr, _ = roc_curve(y_test,  yproba)\n",
        "    auc = roc_auc_score(y_test, yproba)\n",
        "    \n",
        "    result_table = result_table.append({'datasets':model.__class__.__name__,\n",
        "                                        'fpr':fpr, \n",
        "                                        'tpr':tpr, \n",
        "                                        'auc':auc}, ignore_index=True)\n",
        "\n",
        "# Set name of the classifiers as index labels\n",
        "result_table.set_index('datasets', inplace=True)"
      ],
      "execution_count": null,
      "outputs": []
    },
    {
      "cell_type": "code",
      "metadata": {
        "id": "N6L1fAVkUy2W"
      },
      "source": [
        "fig = plt.figure(figsize=(12,8))\n",
        "\n",
        "dataset = ['Measurements_Only','Measurements with indicators','Indicators_only']\n",
        "result_table['dataset'] = dataset\n",
        "result_table = result_table.set_index('dataset')\n",
        "\n",
        "for i in result_table.index:\n",
        "    plt.plot(result_table.loc[i]['fpr'], \n",
        "             result_table.loc[i]['tpr'],\n",
        "            label=\"{}, AUC={:.3f}\".format(i, result_table.loc[i]['auc']))\n",
        "    \n",
        "plt.plot([0,1], [0,1], color='orange', linestyle='--')\n",
        "\n",
        "plt.xticks(np.arange(0.0, 1.1, step=0.1))\n",
        "plt.xlabel(\"Flase Positive Rate\", fontsize=15)\n",
        "\n",
        "plt.yticks(np.arange(0.0, 1.1, step=0.1))\n",
        "plt.ylabel(\"True Positive Rate\", fontsize=15)\n",
        "\n",
        "plt.title('ROC Curve Analysis for Decision Tree Classifier across All Datasets', fontweight='bold', fontsize=15)\n",
        "plt.legend(prop={'size':13}, loc='lower right')\n",
        "\n",
        "plt.show()"
      ],
      "execution_count": null,
      "outputs": []
    },
    {
      "cell_type": "markdown",
      "metadata": {
        "id": "kymWSM74w3vT"
      },
      "source": [
        "# Random Forest Classifier"
      ]
    },
    {
      "cell_type": "code",
      "metadata": {
        "id": "mS8ACqqv9TOd"
      },
      "source": [
        "#Function to run and evaluate the performance of Random forest classifier model\n",
        "\n",
        "def random_forest(x_train,y_train,x_test, y_test):\n",
        "  rf = RandomForestClassifier(n_estimators = 100, bootstrap = True, criterion = 'gini', \n",
        "                              max_depth = 10, min_samples_split = 30, random_state = 2)\n",
        "\n",
        "  rf.fit(x_train, y_train)\n",
        "  y_pred = rf.predict(x_test)\n",
        "\n",
        "  cf_matrix = confusion_matrix(y_test, y_pred)\n",
        "  labels = ['True Neg','False Pos','False Neg','True Pos']\n",
        "  categories = ['Survivors', 'Non-Survivors']\n",
        "  make_confusion_matrix(cf_matrix, \n",
        "                      group_names=labels,\n",
        "                      categories=categories, \n",
        "                      cmap='icefire')\n",
        "\n",
        "  #confusion_matrix1 =  confusion_matrix(y_test, y_pred)\n",
        "  #print(confusion_matrix1)\n",
        "  #print(classification_report(y_test, y_pred))\n",
        "  rf_roc_auc = roc_auc_score(y_test, rf.predict(x_test))\n",
        "  fpr, tpr, thresholds = roc_curve(y_test, rf.predict_proba(x_test)[:,1])\n",
        "  print('Accuracy of Random Forest classifier on test set: {:.3f}'.format(rf.score(x_test, y_test)))\n",
        "  print('AUC Score: ',round(rf_roc_auc,3))\n",
        "  plt.figure()\n",
        "  plt.plot(fpr, tpr, label='Random Forest (area = %0.3f)' %rf_roc_auc)\n",
        "  plt.plot([0, 1], [0, 1],'r--')\n",
        "  plt.xlim([0.0, 1.0])\n",
        "  plt.ylim([0.0, 1.05])\n",
        "  plt.xlabel('False Positive Rate')\n",
        "  plt.ylabel('True Positive Rate')\n",
        "  plt.title('Receiver operating characteristic')\n",
        "  plt.legend(loc=\"lower right\")\n",
        "  plt.savefig('Log_ROC')\n",
        "  plt.show()\n",
        "  return rf"
      ],
      "execution_count": null,
      "outputs": []
    },
    {
      "cell_type": "markdown",
      "metadata": {
        "id": "37IiCTQcxBtt"
      },
      "source": [
        "Random Forest - Measurements only Dataset\n",
        "\n",
        "---\n",
        "\n"
      ]
    },
    {
      "cell_type": "code",
      "metadata": {
        "id": "hqOkEAGm9c5y"
      },
      "source": [
        "print('\\nOnly Measurements without extracted features: \\n')\n",
        "rf_mo = random_forest(x_train_mo,y_train_mo.ravel(),x_test_mo,y_test_mo.ravel())\n",
        "\n",
        "print('===========================================================\\nMeasurements only with extracted features: \\n')\n",
        "rf_mo_ex = random_forest(x_train_mo_ex,y_train_mo_ex.ravel(),x_test_mo_ex,y_test_mo_ex.ravel())\n",
        "\n"
      ],
      "execution_count": null,
      "outputs": []
    },
    {
      "cell_type": "markdown",
      "metadata": {
        "id": "L_A5ltpExHyX"
      },
      "source": [
        "Random Forest - Indicators only Dataset\n",
        "\n",
        "---"
      ]
    },
    {
      "cell_type": "code",
      "metadata": {
        "id": "exbkIdGeeMc6"
      },
      "source": [
        "print('\\nOnly Indicators without extracted features: \\n')\n",
        "rf_i = random_forest(x_train_i,y_train_i.ravel(),x_test_i,y_test_i.ravel())\n",
        "print('===========================================================\\nIndicators only with extracted features: \\n')\n",
        "rf_i_ex = random_forest(x_train_i_ex,y_train_i_ex.ravel(),x_test_i_ex,y_test_i_ex.ravel())\n"
      ],
      "execution_count": null,
      "outputs": []
    },
    {
      "cell_type": "markdown",
      "metadata": {
        "id": "-DSI94qxxLOj"
      },
      "source": [
        "Random Forest - Measurements and Indicators Dataset\n",
        "\n",
        "---"
      ]
    },
    {
      "cell_type": "code",
      "metadata": {
        "id": "3gL_DyjmeO_w"
      },
      "source": [
        "\n",
        "print('\\n Measurements & Indicators without extracted features: \\n')\n",
        "rf_mi = random_forest(x_train_mi,y_train_mi.ravel(),x_test_mi,y_test_mi.ravel())\n",
        "\n",
        "print('===========================================================\\nMeasurements & Indicators with extracted features: \\n')\n",
        "rf_mi_ex = random_forest(x_train_mi_ex,y_train_mi_ex.ravel(),x_test_mi_ex,y_test_mi_ex.ravel())\n"
      ],
      "execution_count": null,
      "outputs": []
    },
    {
      "cell_type": "markdown",
      "metadata": {
        "id": "x4tCEsATxeKk"
      },
      "source": [
        "We will now look at the ROC curves for all the dataset types in a single plot."
      ]
    },
    {
      "cell_type": "code",
      "metadata": {
        "id": "5PqBm4UyEr5o"
      },
      "source": [
        "# Add all the model results and datasets types to a list\n",
        "datasets_rf = [x_test_mo,x_test_mi,x_test_i_ex]\n",
        "models = [rf_mo,rf_mi, rf_i_ex]\n",
        "y_test = y_test_mo\n",
        "\n",
        "result_table = pd.DataFrame(columns=['datasets', 'fpr','tpr','auc'])\n",
        "\n",
        "res = dict(zip(models, datasets_rf)) \n",
        "\n",
        "# Train the models and record the results\n",
        "for model, x_test in res.items():\n",
        "   #model = cls.fit(X_train, y_train)\n",
        "    yproba = model.predict(x_test).ravel()\n",
        "    \n",
        "    fpr, tpr, _ = roc_curve(y_test,  yproba)\n",
        "    auc = roc_auc_score(y_test, yproba)\n",
        "    \n",
        "    result_table = result_table.append({'datasets':model.__class__.__name__,\n",
        "                                        'fpr':fpr, \n",
        "                                        'tpr':tpr, \n",
        "                                        'auc':auc}, ignore_index=True)\n",
        "\n",
        "# Set name of the classifiers as index labels\n",
        "result_table.set_index('datasets', inplace=True)"
      ],
      "execution_count": null,
      "outputs": []
    },
    {
      "cell_type": "code",
      "metadata": {
        "id": "IPpFibWwOXSn"
      },
      "source": [
        "fig = plt.figure(figsize=(12,8))\n",
        "\n",
        "dataset = ['Measurements_Only','Measurements with indicators','Indicators_only']\n",
        "result_table['dataset'] = dataset\n",
        "result_table = result_table.set_index('dataset')\n",
        "\n",
        "for i in result_table.index:\n",
        "    plt.plot(result_table.loc[i]['fpr'], \n",
        "             result_table.loc[i]['tpr'],\n",
        "            label=\"{}, AUC={:.3f}\".format(i, result_table.loc[i]['auc']))\n",
        "    \n",
        "plt.plot([0,1], [0,1], color='orange', linestyle='--')\n",
        "\n",
        "plt.xticks(np.arange(0.0, 1.1, step=0.1))\n",
        "plt.xlabel(\"Flase Positive Rate\", fontsize=15)\n",
        "\n",
        "plt.yticks(np.arange(0.0, 1.1, step=0.1))\n",
        "plt.ylabel(\"True Positive Rate\", fontsize=15)\n",
        "\n",
        "plt.title('ROC Curve Analysis for Random forest Classifier across All Datasets', fontweight='bold', fontsize=15)\n",
        "plt.legend(prop={'size':13}, loc='lower right')\n",
        "\n",
        "plt.show()"
      ],
      "execution_count": null,
      "outputs": []
    }
  ]
}